{
 "cells": [
  {
   "cell_type": "code",
   "execution_count": null,
   "metadata": {},
   "outputs": [],
   "source": [
    "import mxnet as mx\n",
    "from mxnet import gluon, autograd\n",
    "import mxnet.gluon.nn as nn\n",
    "mx.random.seed(42)"
   ]
  },
  {
   "cell_type": "code",
   "execution_count": null,
   "metadata": {},
   "outputs": [],
   "source": [
    "mnist = mx.test_utils.get_mnist()\n",
    "BATCH_SIZE = 32\n",
    "NUM_OF_EPOCHS = 10\n",
    "LEARNING_RATE = 0.01\n",
    "NUM_OF_CLASSES = 10\n",
    "ctx = mx.gpu()\n",
    "train_data = mx.io.NDArrayIter(mnist['train_data'], mnist['train_label'], BATCH_SIZE, shuffle=True)\n",
    "val_data = mx.io.NDArrayIter(mnist['test_data'], mnist['test_label'], BATCH_SIZE)"
   ]
  },
  {
   "cell_type": "code",
   "execution_count": null,
   "metadata": {},
   "outputs": [],
   "source": [
    "from mxnet.gluon import nn\n",
    "classes = [0,1, 2, 3, 4, 5, 6, 7, 8, 9]\n",
    "class CNN(nn.Block):\n",
    "    def __init__(self, **kwargs):\n",
    "        super(CNN, self).__init__(**kwargs)\n",
    "        # feature extraction \n",
    "        self.feature_extraction = nn.Sequential(\n",
    "            # first convolutional layer\n",
    "            nn.Conv2D(channels=6, kernel_size=5, padding=2, activation='tanh'), \n",
    "            nn.MaxPool2D(pool_size=2, strides=2),\n",
    "            # second convolutional layer\n",
    "            nn.Conv2D(channels=16, kernel_size=5, activation='tanh'),\n",
    "            nn.MaxPool2D(pool_size=2, strides=2),\n",
    "        )\n",
    "        # fully connected layer - for classification\n",
    "        self.classifier = nn.Sequential(\n",
    "            nn.Dense(120, activation='tanh'),\n",
    "            nn.Dense(84, activation='tanh'),\n",
    "            nn.Dense(10)\n",
    "        )\n",
    "    def forward(self, X):\n",
    "        X = self.feature_extraction(X)\n",
    "        X = X.reshape((-1, 16*5*5))\n",
    "        X = self.classifier(X)\n",
    "        return nd.softmax(X)\n",
    "\n",
    "model = CNN()\n",
    "\n",
    "model"
   ]
  }
 ],
 "metadata": {
  "kernelspec": {
   "display_name": "env1",
   "language": "python",
   "name": "python3"
  },
  "language_info": {
   "codemirror_mode": {
    "name": "ipython",
    "version": 3
   },
   "file_extension": ".py",
   "mimetype": "text/x-python",
   "name": "python",
   "nbconvert_exporter": "python",
   "pygments_lexer": "ipython3",
   "version": "3.6.13"
  },
  "orig_nbformat": 4
 },
 "nbformat": 4,
 "nbformat_minor": 2
}
