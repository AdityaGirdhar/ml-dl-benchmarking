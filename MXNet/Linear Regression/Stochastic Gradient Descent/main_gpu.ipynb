{
 "cells": [
  {
   "cell_type": "markdown",
   "metadata": {},
   "source": [
    "Importing required libraries and setting the profiler"
   ]
  },
  {
   "cell_type": "code",
   "execution_count": null,
   "metadata": {},
   "outputs": [],
   "source": [
    "# importing the libraries\n",
    "import mxnet as mx\n",
    "from mxnet import nd, autograd, gluon\n",
    "import numpy as np\n",
    "import time\n",
    "import pandas as pd\n",
    "from mxnet import profiler\n",
    "import re"
   ]
  },
  {
   "cell_type": "code",
   "execution_count": null,
   "metadata": {},
   "outputs": [],
   "source": [
    "# setting the context for the program \n",
    "mx.test_utils.list_gpus()\n",
    "if mx.context.num_gpus() > 0:\n",
    "    data_ctx = mx.gpu()\n",
    "    model_ctx = mx.gpu()\n",
    "else:\n",
    "    data_ctx = mx.cpu()\n",
    "    model_ctx = mx.cpu()"
   ]
  },
  {
   "cell_type": "code",
   "execution_count": null,
   "metadata": {},
   "outputs": [],
   "source": [
    "# setting the profiler for measuring the execution time and memory usage\n",
    "profiler.set_config(profile_all=False,profile_symbolic = False, profile_imperative = False,profile_memory = True, profile_api = True, aggregate_stats=True,continuous_dump=False, filename='lin_reg_sgd_profile.json')"
   ]
  },
  {
   "cell_type": "markdown",
   "metadata": {},
   "source": [
    "Importing the dataset and preprocessing it "
   ]
  },
  {
   "cell_type": "code",
   "execution_count": null,
   "metadata": {},
   "outputs": [],
   "source": [
    "# read data with pandas\n",
    "data = pd.read_csv('train_data.csv')\n",
    "# convert to numpy array\n",
    "data = data.to_numpy()\n",
    "test_data = pd.read_csv('test_data.csv')\n",
    "# convert to numpy array\n",
    "test_data = test_data.to_numpy()"
   ]
  },
  {
   "cell_type": "code",
   "execution_count": null,
   "metadata": {},
   "outputs": [],
   "source": [
    "# standardize the features\n",
    "mean = np.mean(data, axis=0)\n",
    "std = np.std(data, axis=0)\n",
    "data = (data - mean) / std\n",
    "# convert to NDArray\n",
    "data = nd.array(data, ctx=data_ctx)\n",
    "\n",
    "# standardize the features\n",
    "test_data = (test_data - mean) / std\n",
    "# convert to NDArray\n",
    "test_data = nd.array(test_data, ctx=data_ctx)\n",
    "batch_size = 1000"
   ]
  },
  {
   "cell_type": "markdown",
   "metadata": {},
   "source": [
    "Splitting the dataset into train and test sets"
   ]
  },
  {
   "cell_type": "code",
   "execution_count": null,
   "metadata": {},
   "outputs": [],
   "source": [
    "# splitting into features and labels\n",
    "features = nd.array(data[:, :-1], ctx=data_ctx)\n",
    "labels = nd.array(data[:, -1], ctx=data_ctx)"
   ]
  },
  {
   "cell_type": "code",
   "execution_count": null,
   "metadata": {},
   "outputs": [],
   "source": [
    "X_train = features\n",
    "y_train = labels\n",
    "y_train = y_train.reshape((len(y_train), 1))"
   ]
  },
  {
   "cell_type": "code",
   "execution_count": null,
   "metadata": {},
   "outputs": [],
   "source": [
    "X_test = nd.array(test_data[:, :-1], ctx=data_ctx)\n",
    "y_test = nd.array(test_data[:, -1], ctx=data_ctx)\n",
    "y_test = y_test.reshape((len(y_test), 1))"
   ]
  },
  {
   "cell_type": "code",
   "execution_count": null,
   "metadata": {},
   "outputs": [],
   "source": [
    "# printing the shapes of the training set to check dimensions\n",
    "print(X_train.shape)\n",
    "print(y_train.shape)\n",
    "print(X_test.shape)\n",
    "print(y_test.shape)"
   ]
  },
  {
   "cell_type": "markdown",
   "metadata": {},
   "source": [
    "Preparing the dataset for the neural net"
   ]
  },
  {
   "cell_type": "code",
   "execution_count": null,
   "metadata": {},
   "outputs": [],
   "source": [
    "# combining the features and labels into a single dataset\n",
    "train_gdata = gluon.data.DataLoader(gluon.data.ArrayDataset(X_train, y_train), batch_size=batch_size, shuffle=True)"
   ]
  },
  {
   "cell_type": "markdown",
   "metadata": {},
   "source": [
    "Setting up the neural net for training\n"
   ]
  },
  {
   "cell_type": "code",
   "execution_count": null,
   "metadata": {},
   "outputs": [],
   "source": [
    "num_epochs = 3\n",
    "net = gluon.nn.Sequential()\n",
    "net.add(gluon.nn.Dense(1))\n",
    "net.initialize(mx.init.Normal(sigma=1.), ctx=model_ctx)\n",
    "loss = gluon.loss.L2Loss()\n",
    "trainer = gluon.Trainer(net.collect_params(), 'sgd', {'learning_rate': 0.01})"
   ]
  },
  {
   "cell_type": "markdown",
   "metadata": {},
   "source": [
    "Training the data"
   ]
  },
  {
   "cell_type": "code",
   "execution_count": null,
   "metadata": {},
   "outputs": [],
   "source": [
    "mx.nd.waitall() \n",
    "\n",
    "# starting the profiler\n",
    "profiler.set_state('run')\n",
    "start = time.time()"
   ]
  },
  {
   "cell_type": "code",
   "execution_count": null,
   "metadata": {},
   "outputs": [],
   "source": [
    "# training loop for the linear regression model\n",
    "for epoch in range(num_epochs):\n",
    "    for X, y in train_gdata:\n",
    "        with autograd.record():\n",
    "            l = loss(net(X), y)\n",
    "        l.backward()\n",
    "        trainer.step(batch_size)\n",
    "    l = loss(net(X_train), y_train)\n",
    "    print('epoch %d, loss: %f' % (epoch, l.mean().asnumpy()))"
   ]
  },
  {
   "cell_type": "code",
   "execution_count": null,
   "metadata": {},
   "outputs": [],
   "source": [
    "# waiting for all operations to end, then stopping the profiler\n",
    "mx.nd.waitall()\n",
    "end = time.time()\n",
    "profiler.set_state('stop')"
   ]
  },
  {
   "cell_type": "code",
   "execution_count": null,
   "metadata": {},
   "outputs": [],
   "source": [
    "results = profiler.dumps()"
   ]
  },
  {
   "cell_type": "code",
   "execution_count": null,
   "metadata": {},
   "outputs": [],
   "source": [
    "result = results\n",
    "result = result.split('\\n')"
   ]
  },
  {
   "cell_type": "code",
   "execution_count": null,
   "metadata": {},
   "outputs": [],
   "source": [
    "# splitting the result into a list of lists\n",
    "for i in range(len(result)):\n",
    "    result[i] = result[i].split()"
   ]
  },
  {
   "cell_type": "markdown",
   "metadata": {},
   "source": [
    "Parsing the profiler data"
   ]
  },
  {
   "cell_type": "code",
   "execution_count": null,
   "metadata": {},
   "outputs": [],
   "source": [
    "# extracting the maximum gpu and cpu memory usage and the total execution time\n",
    "max_gpu_use = 0\n",
    "max_cpu_use = 0\n",
    "total_execution_time = 0\n",
    "# traversing over the lists and trying to find the maximum gpu and cpu memory usage and the total execution time\n",
    "for i in result:\n",
    "    if (len(i)>=1 and i[0]=='Memory:'):\n",
    "        if (i[1]=='gpu/0'):\n",
    "            max_gpu_use = float(i[-2])\n",
    "        elif (i[1]=='cpu/0'):\n",
    "            max_cpu_use = float(i[-2])\n",
    "        else: continue\n",
    "    # if the length of the list 6 and the second to sixth elements are numbers, then it is a time entry\n",
    "    else:\n",
    "        if (len(i)>=6):\n",
    "            # if it is a valid time entry, then add it to the total execution time\n",
    "            if (re.match(r'^-?\\d+(?:\\.\\d+)$', i[-4]) is not None):\n",
    "                total_execution_time += float(i[-4])\n",
    "\n",
    "if (total_execution_time==0):\n",
    "    total_execution_time = (end - start)*1000"
   ]
  },
  {
   "cell_type": "code",
   "execution_count": null,
   "metadata": {},
   "outputs": [],
   "source": [
    "print(f\"Maximum training GPU memory usage: {max_gpu_use} KB\")\n",
    "print(f\"Maximum training CPU memory usage: {max_cpu_use} KB\")\n",
    "print(f\"Total training time: {total_execution_time} milli seconds (ms)\")"
   ]
  },
  {
   "cell_type": "markdown",
   "metadata": {},
   "source": [
    "Reseting the profiler for the prediction phase"
   ]
  },
  {
   "cell_type": "code",
   "execution_count": null,
   "metadata": {},
   "outputs": [],
   "source": [
    "# set the profiler to default\n",
    "profiler.set_config(profile_all=False,profile_symbolic = False, profile_imperative = False,profile_memory = False, profile_api = True, aggregate_stats=True,continuous_dump=False, filename='lin_reg_sgd_profile.json')"
   ]
  },
  {
   "cell_type": "code",
   "execution_count": null,
   "metadata": {},
   "outputs": [],
   "source": [
    "mx.nd.waitall() \n",
    "\n",
    "# starting the profiler\n",
    "profiler.set_state('run')\n",
    "start = time.time()"
   ]
  },
  {
   "cell_type": "code",
   "execution_count": null,
   "metadata": {},
   "outputs": [],
   "source": [
    "# predicting the training set\n",
    "train_predictions = net(X_train)\n",
    "# predicting the test set\n",
    "test_predictions = net(X_test)"
   ]
  },
  {
   "cell_type": "code",
   "execution_count": null,
   "metadata": {},
   "outputs": [],
   "source": [
    "mse_train = nd.mean((train_predictions - y_train) ** 2)\n",
    "mse_test = nd.mean((test_predictions - y_test) ** 2)"
   ]
  },
  {
   "cell_type": "code",
   "execution_count": null,
   "metadata": {},
   "outputs": [],
   "source": [
    "# waiting for all operations to end, then stopping the profiler\n",
    "mx.nd.waitall()\n",
    "end = time.time()\n",
    "profiler.set_state('stop')"
   ]
  },
  {
   "cell_type": "code",
   "execution_count": null,
   "metadata": {},
   "outputs": [],
   "source": [
    "results = profiler.dumps()"
   ]
  },
  {
   "cell_type": "code",
   "execution_count": null,
   "metadata": {},
   "outputs": [],
   "source": [
    "result = results\n",
    "result = result.split('\\n')"
   ]
  },
  {
   "cell_type": "code",
   "execution_count": null,
   "metadata": {},
   "outputs": [],
   "source": [
    "# splitting the result into a list of lists\n",
    "for i in range(len(result)):\n",
    "    result[i] = result[i].split() "
   ]
  },
  {
   "cell_type": "code",
   "execution_count": null,
   "metadata": {},
   "outputs": [],
   "source": [
    "# parsing the profiler data\n",
    "total_execution_time = 0\n",
    "for i in result:\n",
    "    if (len(i)>=6):\n",
    "        if (re.match(r'^-?\\d+(?:\\.\\d+)$', i[-4]) is not None):\n",
    "            total_execution_time += float(i[-4])\n",
    "\n",
    "if (total_execution_time==0):\n",
    "    total_execution_time = (end - start)*1000"
   ]
  },
  {
   "cell_type": "code",
   "execution_count": null,
   "metadata": {},
   "outputs": [],
   "source": [
    "print(f\"Total prediction/testing time: {total_execution_time} milli seconds (ms)\")\n",
    "print(f\"Mean Squared Error (MSE) of training set: {mse_train.asscalar()}\")\n",
    "print(f\"Mean Squared Error (MSE) of test set: {mse_test.asscalar()}\")"
   ]
  }
 ],
 "metadata": {
  "kernelspec": {
   "display_name": "env1",
   "language": "python",
   "name": "python3"
  },
  "language_info": {
   "codemirror_mode": {
    "name": "ipython",
    "version": 3
   },
   "file_extension": ".py",
   "mimetype": "text/x-python",
   "name": "python",
   "nbconvert_exporter": "python",
   "pygments_lexer": "ipython3",
   "version": "3.6.13"
  },
  "orig_nbformat": 4
 },
 "nbformat": 4,
 "nbformat_minor": 2
}
