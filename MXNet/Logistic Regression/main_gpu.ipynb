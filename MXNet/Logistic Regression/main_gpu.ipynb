{
 "cells": [
  {
   "attachments": {},
   "cell_type": "markdown",
   "metadata": {},
   "source": [
    "Importing all the libraries and packages required"
   ]
  },
  {
   "cell_type": "code",
   "execution_count": 1,
   "metadata": {},
   "outputs": [],
   "source": [
    "# importing packages and libraries\n",
    "from mxnet import nd, gluon, autograd\n",
    "from mxnet.gluon import nn\n",
    "import mxnet as mx\n",
    "import numpy as np\n",
    "import pandas as pd\n",
    "import time\n",
    "data_ctx = mx.gpu()\n",
    "model_ctx = mx.gpu()"
   ]
  },
  {
   "attachments": {},
   "cell_type": "markdown",
   "metadata": {},
   "source": [
    "Reading and pre-processing of data"
   ]
  },
  {
   "cell_type": "code",
   "execution_count": 2,
   "metadata": {},
   "outputs": [],
   "source": [
    "# load the dataset\n",
    "df = pd.read_csv('magic_gamma_telescope.csv', header=None)\n",
    "\n",
    "# extract the features and labels\n",
    "X = df.iloc[:, :-1].values.astype(np.float32)\n",
    "y_labels = df.iloc[:, -1].values\n",
    "\n",
    "# encode the string class labels as integers\n",
    "y_labels[y_labels == 'g'] = 0\n",
    "y_labels[y_labels == 'h'] = 1\n",
    "y = y_labels.astype(np.int32)\n",
    "\n",
    "# convert the features and labels to mxnet ndarrays\n",
    "X = nd.array(X, ctx=data_ctx)\n",
    "y = nd.array(y, ctx=data_ctx)\n",
    "y = y.reshape((-1, 1))"
   ]
  },
  {
   "cell_type": "code",
   "execution_count": 3,
   "metadata": {},
   "outputs": [
    {
     "name": "stdout",
     "output_type": "stream",
     "text": [
      "(19020, 10)\n",
      "(19020, 1)\n"
     ]
    }
   ],
   "source": [
    "print(X.shape)\n",
    "print(y.shape)"
   ]
  },
  {
   "attachments": {},
   "cell_type": "markdown",
   "metadata": {},
   "source": [
    "Initialising the model for training"
   ]
  },
  {
   "cell_type": "code",
   "execution_count": 4,
   "metadata": {},
   "outputs": [],
   "source": [
    "def sigmoid(z):\n",
    "    return 1 / (1 + nd.exp(-z))"
   ]
  },
  {
   "cell_type": "code",
   "execution_count": 5,
   "metadata": {},
   "outputs": [
    {
     "name": "stdout",
     "output_type": "stream",
     "text": [
      "19020 10\n"
     ]
    }
   ],
   "source": [
    "# initialize the parameters\n",
    "learning_rate = 0.1\n",
    "num_of_epochs = 10\n",
    "batch_size = 10\n",
    "weights = nd.random_normal(shape=(X.shape[1], 1), ctx=model_ctx)\n",
    "bias = 0\n",
    "num_samples, num_features = X.shape\n",
    "print(num_samples, num_features)"
   ]
  },
  {
   "cell_type": "code",
   "execution_count": 6,
   "metadata": {},
   "outputs": [],
   "source": [
    "data_set = gluon.data.ArrayDataset(X, y)\n",
    "data_loader = gluon.data.DataLoader(data_set, batch_size=batch_size, shuffle=True)"
   ]
  },
  {
   "cell_type": "code",
   "execution_count": 7,
   "metadata": {},
   "outputs": [],
   "source": [
    "# Defining the neural network\n",
    "net = nn.Sequential()\n",
    "# Adding the output layer with only one output, with the sigmoid activation function\n",
    "with net.name_scope():\n",
    "    net.add(nn.Dense(units=1, activation='sigmoid'))\n",
    "# collect_params() will initialize the weights and biases for the neural network\n",
    "net.collect_params().initialize(mx.init.Zero(), ctx=model_ctx)"
   ]
  },
  {
   "cell_type": "code",
   "execution_count": 8,
   "metadata": {},
   "outputs": [],
   "source": [
    "# defining the loss function and the optimizer\n",
    "loss = gluon.loss.SigmoidBinaryCrossEntropyLoss()\n",
    "trainer = gluon.Trainer(params = net.collect_params(), optimizer='sgd', optimizer_params={'learning_rate': learning_rate})"
   ]
  },
  {
   "attachments": {},
   "cell_type": "markdown",
   "metadata": {},
   "source": [
    "Training the model"
   ]
  },
  {
   "cell_type": "code",
   "execution_count": 9,
   "metadata": {},
   "outputs": [],
   "source": [
    "start = time.time()"
   ]
  },
  {
   "cell_type": "code",
   "execution_count": 10,
   "metadata": {},
   "outputs": [],
   "source": [
    "# training the model over the number of epochs\n",
    "for epoch in range(num_of_epochs):\n",
    "    cumulative_loss = 0\n",
    "    # for each epoch, iterating over the dataset in batches\n",
    "    for i, (data, label) in enumerate(data_loader):\n",
    "        # for the forward pass\n",
    "        with autograd.record():\n",
    "            output = net(data)      # output is the predicted value from the neural network\n",
    "            L = loss(output, label) # L will store the loss between the predicted value and the actual value\n",
    "        L.backward()                # for the backward pass\n",
    "        trainer.step(batch_size)    # updating the weights and biases\n",
    "        cumulative_loss += nd.sum(L).asscalar()"
   ]
  },
  {
   "cell_type": "code",
   "execution_count": 11,
   "metadata": {},
   "outputs": [],
   "source": [
    "end = time.time()"
   ]
  },
  {
   "cell_type": "code",
   "execution_count": 12,
   "metadata": {},
   "outputs": [
    {
     "name": "stdout",
     "output_type": "stream",
     "text": [
      "Time taken to run the model: 61.25322198867798 seconds\n"
     ]
    }
   ],
   "source": [
    "print(f\"Time taken to run the model: {end - start} seconds\")"
   ]
  }
 ],
 "metadata": {
  "kernelspec": {
   "display_name": "env1",
   "language": "python",
   "name": "python3"
  },
  "language_info": {
   "codemirror_mode": {
    "name": "ipython",
    "version": 3
   },
   "file_extension": ".py",
   "mimetype": "text/x-python",
   "name": "python",
   "nbconvert_exporter": "python",
   "pygments_lexer": "ipython3",
   "version": "3.6.13"
  },
  "orig_nbformat": 4
 },
 "nbformat": 4,
 "nbformat_minor": 2
}
