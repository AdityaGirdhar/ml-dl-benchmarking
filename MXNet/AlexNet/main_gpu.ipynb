{
 "cells": [
  {
   "cell_type": "code",
   "execution_count": 2,
   "metadata": {},
   "outputs": [],
   "source": [
    "# importing packages and libraries\n",
    "from mxnet import nd, gluon, autograd\n",
    "from mxnet.gluon import nn\n",
    "import mxnet as mx\n",
    "import numpy as np\n",
    "import pandas as pd\n",
    "import time\n",
    "from mxnet import profiler\n",
    "import re\n",
    "import matplotlib.pyplot as plt\n",
    "import PIL as Image"
   ]
  },
  {
   "cell_type": "code",
   "execution_count": 3,
   "metadata": {},
   "outputs": [],
   "source": [
    "# setting the context for the program \n",
    "mx.test_utils.list_gpus()\n",
    "if mx.context.num_gpus() > 0:\n",
    "    data_ctx = mx.gpu()\n",
    "    model_ctx = mx.gpu()\n",
    "else:\n",
    "    data_ctx = mx.cpu()\n",
    "    model_ctx = mx.cpu()"
   ]
  },
  {
   "cell_type": "code",
   "execution_count": 4,
   "metadata": {},
   "outputs": [],
   "source": [
    "# training transform definition\n",
    "transform_train = gluon.data.vision.transforms.Compose([\n",
    "    gluon.data.vision.transforms.Resize((70, 70)),\n",
    "    gluon.data.vision.transforms.CenterCrop((64, 64)),\n",
    "    gluon.data.vision.transforms.ToTensor(), \n",
    "    # gluon.data.vision.transforms.Normalize(0.5)\n",
    "])\n",
    "# testing transform definition\n",
    "transform_test = gluon.data.vision.transforms.Compose([\n",
    "    gluon.data.vision.transforms.Resize((70, 70)),\n",
    "    gluon.data.vision.transforms.CenterCrop((64, 64)),\n",
    "    gluon.data.vision.transforms.ToTensor(),\n",
    "    # gluon.data.vision.transforms.Normalize(0.5)\n",
    "])\n",
    "\n",
    "\n",
    "# importing the imagenet dataset\n",
    "train_data = gluon.data.vision.MNIST(root = 'mnist_data', train = True, transform = transform_train)\n",
    "test_data = gluon.data.vision.MNIST(root = 'mnist_data', train = False, transform = transform_test)\n",
    "\n",
    "# constants\n",
    "BATCH_SIZE = 64\n",
    "NUM_CLASSES = 10\n",
    "\n",
    "# creating the data loader\n",
    "train_loader = gluon.data.DataLoader(train_data, batch_size = BATCH_SIZE, shuffle = True)\n",
    "test_loader = gluon.data.DataLoader(test_data, batch_size = BATCH_SIZE, shuffle = False)\n",
    "\n",
    "# split into train and validation sets\n",
    "X_train = train_data._data\n",
    "y_train = train_data._label\n",
    "X_test = test_data._data\n",
    "y_test = test_data._label\n",
    "\n",
    "# reshaping\n",
    "X_train = X_train.reshape(60000, 1, 28, 28)\n",
    "X_test = X_test.reshape(10000, 1, 28, 28)\n",
    "X_train = X_train.astype('float32')\n",
    "X_test = X_test.astype('float32')\n",
    "X_train /= 255.0\n",
    "X_test /= 255.0"
   ]
  },
  {
   "cell_type": "code",
   "execution_count": 5,
   "metadata": {},
   "outputs": [
    {
     "data": {
      "text/plain": [
       "<matplotlib.image.AxesImage at 0x21438970208>"
      ]
     },
     "execution_count": 5,
     "metadata": {},
     "output_type": "execute_result"
    },
    {
     "data": {
      "image/png": "[encoded data removed]",
      "text/plain": [
       "<Figure size 432x288 with 1 Axes>"
      ]
     },
     "metadata": {
      "needs_background": "light"
     },
     "output_type": "display_data"
    }
   ],
   "source": [
    "plt.imshow((X_train[0][0]*(255.0)).asnumpy(), cmap = 'gray')"
   ]
  },
  {
   "cell_type": "code",
   "execution_count": 7,
   "metadata": {},
   "outputs": [
    {
     "data": {
      "text/plain": [
       "CNN(\n",
       "  (feature_extraction): Sequential(\n",
       "    (0): [Conv2D(None -> 96, kernel_size=(11, 11), stride=(4, 4), Activation(relu)), MaxPool2D(size=(3, 3), stride=(2, 2), padding=(0, 0), ceil_mode=False, global_pool=False, pool_type=max, layout=NCHW), Conv2D(None -> 256, kernel_size=(5, 5), stride=(1, 1), padding=(2, 2), Activation(relu)), MaxPool2D(size=(3, 3), stride=(1, 1), padding=(1, 1), ceil_mode=False, global_pool=False, pool_type=max, layout=NCHW), Conv2D(None -> 384, kernel_size=(3, 3), stride=(1, 1), padding=(1, 1), Activation(relu)), Conv2D(None -> 256, kernel_size=(3, 3), stride=(1, 1), padding=(1, 1), Activation(relu)), MaxPool2D(size=(3, 3), stride=(2, 2), padding=(0, 0), ceil_mode=False, global_pool=False, pool_type=max, layout=NCHW)]\n",
       "  )\n",
       "  (flatten): Flatten\n",
       "  (classifier): Sequential(\n",
       "    (0): [Dense(None -> 4096, Activation(relu)), Dense(None -> 4096, Activation(relu)), Dense(None -> 10, Activation(softmax))]\n",
       "  )\n",
       ")"
      ]
     },
     "execution_count": 7,
     "metadata": {},
     "output_type": "execute_result"
    }
   ],
   "source": [
    "class CNN(nn.Block):\n",
    "    def __init__(self, **kwargs):\n",
    "        super(CNN, self).__init__(**kwargs)\n",
    "        self.feature_extraction = nn.Sequential()\n",
    "        self.feature_extraction.add([\n",
    "            nn.Conv2D(channels = 96, kernel_size = 11, strides = 4, activation = 'relu'),\n",
    "            nn.MaxPool2D(pool_size = 3, strides = 2), \n",
    "            nn.Conv2D(channels = 256, kernel_size = 5, padding = 2, activation = 'relu'),\n",
    "            nn.MaxPool2D(pool_size = 3, strides = 1, padding = 1), \n",
    "            nn.Conv2D(channels = 384, kernel_size = 3, padding = 1, activation = 'relu'), \n",
    "            nn.Conv2D(channels = 256, kernel_size = 3, padding = 1, activation = 'relu'),\n",
    "            nn.MaxPool2D(pool_size = 3, strides = 2)\n",
    "        ])\n",
    "        self.flatten = nn.Flatten()\n",
    "        self.classifier = nn.Sequential()\n",
    "        self.classifier.add([\n",
    "            nn.Dense(4096, activation = 'relu'),\n",
    "            nn.Dense(4096, activation = 'relu'),\n",
    "            nn.Dense(10, activation = 'softmax')\n",
    "        ])\n",
    "\n",
    "    def forward(self, x):\n",
    "        x = self.feature_extraction(x)\n",
    "        x = self.flatten(x)\n",
    "        x = self.classifier(x)\n",
    "        return x\n",
    "\n",
    "model = CNN()\n",
    "model"
   ]
  },
  {
   "cell_type": "code",
   "execution_count": null,
   "metadata": {},
   "outputs": [],
   "source": [
    "model.initialize()\n",
    "\n",
    "preds = model(X_train[:5])\n",
    "\n",
    "preds"
   ]
  },
  {
   "cell_type": "code",
   "execution_count": null,
   "metadata": {},
   "outputs": [],
   "source": [
    "for layer_name, weights in model.collect_params().items():\n",
    "    print(\"{} - {}\".format(layer_name,weights.shape))\n"
   ]
  },
  {
   "cell_type": "code",
   "execution_count": null,
   "metadata": {},
   "outputs": [],
   "source": [
    "from mxnet import autograd\n",
    "\n",
    "def TrainModelInBatches(trainer, X, Y, epochs, batch_size=32):\n",
    "    for i in range(1, epochs+1):\n",
    "        batches = nd.arange((X.shape[0]//batch_size)+1) ### Batch Indices\n",
    "\n",
    "        losses = [] ## Record loss of each batch\n",
    "        for batch in batches:\n",
    "            batch = batch.asscalar()\n",
    "            if batch != batches[-1]:\n",
    "                start, end = int(batch*batch_size), int(batch*batch_size+batch_size)\n",
    "            else:\n",
    "                start, end = int(batch*batch_size), None\n",
    "\n",
    "            X_batch, Y_batch = X[start:end], Y[start:end] ## Single batch of data\n",
    "\n",
    "            with autograd.record():\n",
    "                preds = model(X_batch) ## Forward pass to make predictions\n",
    "                loss_val = loss_func(preds.squeeze(), Y_batch) ## Calculate Loss\n",
    "            loss_val.backward() ## Calculate Gradients\n",
    "\n",
    "            loss_val = loss_val.mean().asscalar()\n",
    "            losses.append(loss_val)\n",
    "\n",
    "            trainer.step(len(X_batch)) ## Update weights\n",
    "\n",
    "        print(\"CrossEntropyLoss : {:.3f}\".format(np.array(losses).mean()))"
   ]
  },
  {
   "cell_type": "code",
   "execution_count": null,
   "metadata": {},
   "outputs": [],
   "source": [
    "from mxnet import gluon\n",
    "from mxnet.gluon import loss\n",
    "from mxnet import autograd\n",
    "\n",
    "batch_size=256\n",
    "epochs=25\n",
    "learning_rate = 0.001\n",
    "\n",
    "model = CNN()\n",
    "model.initialize()\n",
    "loss_func = loss.SoftmaxCrossEntropyLoss()\n",
    "\n",
    "trainer = gluon.Trainer(model.collect_params(), \"adam\", {\"learning_rate\": learning_rate})\n",
    "\n",
    "TrainModelInBatches(trainer, X_train, y_train, epochs, batch_size=batch_size)"
   ]
  }
 ],
 "metadata": {
  "kernelspec": {
   "display_name": "env1",
   "language": "python",
   "name": "python3"
  },
  "language_info": {
   "codemirror_mode": {
    "name": "ipython",
    "version": 3
   },
   "file_extension": ".py",
   "mimetype": "text/x-python",
   "name": "python",
   "nbconvert_exporter": "python",
   "pygments_lexer": "ipython3",
   "version": "3.6.13"
  },
  "orig_nbformat": 4
 },
 "nbformat": 4,
 "nbformat_minor": 2
}
