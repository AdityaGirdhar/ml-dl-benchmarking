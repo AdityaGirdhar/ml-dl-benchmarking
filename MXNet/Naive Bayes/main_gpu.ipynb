{
 "cells": [
  {
   "cell_type": "code",
   "execution_count": 11,
   "metadata": {},
   "outputs": [],
   "source": [
    "# importing packages and libraries\n",
    "from mxnet import nd, gluon, autograd\n",
    "from mxnet.gluon import nn\n",
    "import mxnet as mx\n",
    "import numpy as np\n",
    "import pandas as pd\n",
    "import time\n",
    "data_ctx = mx.gpu()\n",
    "model_ctx = mx.gpu()"
   ]
  },
  {
   "cell_type": "code",
   "execution_count": 12,
   "metadata": {},
   "outputs": [],
   "source": [
    "# load the dataset\n",
    "df = pd.read_csv('magic_gamma_telescope.csv', header=None)"
   ]
  },
  {
   "attachments": {},
   "cell_type": "markdown",
   "metadata": {},
   "source": [
    "Pre-processing step"
   ]
  },
  {
   "cell_type": "code",
   "execution_count": 13,
   "metadata": {},
   "outputs": [],
   "source": [
    "# convert into numpy array\n",
    "dataset = df.values\n",
    "dataset[:, -1] = [1 if x == 'g' else 0 for x in dataset[:, -1]]"
   ]
  },
  {
   "cell_type": "code",
   "execution_count": 14,
   "metadata": {},
   "outputs": [],
   "source": [
    "# splitting the data into unique classes's data\n",
    "X_0 = nd.array(dataset[dataset[:, -1] == 0][:, :-1], ctx = data_ctx)\n",
    "X_1 = nd.array(dataset[dataset[:, -1] == 1][:, :-1], ctx = data_ctx)\n",
    "# removing the target variable from the dataset\n",
    "dataset = dataset[:, :-1]\n",
    "# changing the datatype to float due to standard deviation computation issues\n",
    "dataset = np.array(dataset, dtype=np.float64)"
   ]
  },
  {
   "attachments": {},
   "cell_type": "markdown",
   "metadata": {},
   "source": [
    "Training step"
   ]
  },
  {
   "cell_type": "code",
   "execution_count": 15,
   "metadata": {},
   "outputs": [],
   "source": [
    "start = time.time()"
   ]
  },
  {
   "cell_type": "code",
   "execution_count": 16,
   "metadata": {},
   "outputs": [],
   "source": [
    "# Class Prior Probabilities\n",
    "# computing the prior probabilities of the two classes\n",
    "prior_prob_0 = X_0.shape[0] / dataset.shape[0]\n",
    "prior_prob_1 = X_1.shape[0] / dataset.shape[0]"
   ]
  },
  {
   "cell_type": "code",
   "execution_count": 17,
   "metadata": {},
   "outputs": [],
   "source": [
    "# Class specific statistics\n",
    "# computing the mean and the standard deviations of the features of the two classes\n",
    "mean_0 = nd.mean(X_0, axis = 0)\n",
    "mean_1 = nd.mean(X_1, axis = 0)\n",
    "std_0 = nd.array(np.std(X_0.asnumpy(), axis = 0), ctx = data_ctx)\n",
    "std_1 = nd.array(np.std(X_1.asnumpy(), axis = 0), ctx = data_ctx)"
   ]
  },
  {
   "cell_type": "code",
   "execution_count": 18,
   "metadata": {},
   "outputs": [],
   "source": [
    "# Overall statistics computation\n",
    "# computing the mean and the standard deviations of the features \n",
    "mean_total = nd.array(np.mean(dataset, axis = 0))\n",
    "std_total = nd.array(np.std(dataset, axis = 0))"
   ]
  },
  {
   "cell_type": "code",
   "execution_count": 19,
   "metadata": {},
   "outputs": [],
   "source": [
    "end = time.time()"
   ]
  },
  {
   "cell_type": "code",
   "execution_count": 20,
   "metadata": {},
   "outputs": [
    {
     "name": "stdout",
     "output_type": "stream",
     "text": [
      "Time taken to train the Naive Bayes classifier: 0.06123542785644531\n"
     ]
    }
   ],
   "source": [
    "print(f\"Time taken to train the Naive Bayes classifier: {end - start}\")"
   ]
  }
 ],
 "metadata": {
  "kernelspec": {
   "display_name": "Python 3",
   "language": "python",
   "name": "python3"
  },
  "language_info": {
   "codemirror_mode": {
    "name": "ipython",
    "version": 3
   },
   "file_extension": ".py",
   "mimetype": "text/x-python",
   "name": "python",
   "nbconvert_exporter": "python",
   "pygments_lexer": "ipython3",
   "version": "3.6.13"
  },
  "orig_nbformat": 4
 },
 "nbformat": 4,
 "nbformat_minor": 2
}
