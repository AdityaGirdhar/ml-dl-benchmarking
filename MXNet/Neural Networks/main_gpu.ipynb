{
 "cells": [
  {
   "cell_type": "code",
   "execution_count": 1,
   "metadata": {},
   "outputs": [],
   "source": [
    "from mxnet import nd\n",
    "from mxnet.gluon import nn\n",
    "import pandas as pd\n",
    "import mxnet as mx\n",
    "from mxnet import profiler\n",
    "import re\n",
    "import time\n",
    "data_ctx = mx.gpu()\n",
    "model_ctx = mx.gpu()        \n",
    "mx.random.seed(42, ctx=model_ctx)"
   ]
  },
  {
   "cell_type": "code",
   "execution_count": 2,
   "metadata": {},
   "outputs": [],
   "source": [
    "# setting the profiler for measuring the execution time and memory usage\n",
    "profiler.set_config(profile_all=False,profile_symbolic = False, profile_imperative = False,profile_memory = True, profile_api = True, aggregate_stats=True,continuous_dump=False, filename='neural_net_gpu_profile.json')"
   ]
  },
  {
   "cell_type": "code",
   "execution_count": 3,
   "metadata": {},
   "outputs": [],
   "source": [
    "# loading the dataset using mx.test_utils\n",
    "mnist = mx.test_utils.get_mnist()\n",
    "batch_size = 100\n",
    "learning_rate = 0.1\n",
    "\n",
    "# Convert training and validation data to NDArray format\n",
    "train_data_array = mx.nd.array(mnist['train_data'], ctx=data_ctx)\n",
    "train_label_array = mx.nd.array(mnist['train_label'], ctx=data_ctx)\n",
    "test_data_array = mx.nd.array(mnist['test_data'], ctx=data_ctx)\n",
    "test_label_array = mx.nd.array(mnist['test_label'], ctx=data_ctx)\n",
    "\n",
    "# Create an iterator with combined data\n",
    "combined_data_iter = mx.io.NDArrayIter(train_data_array, train_label_array, batch_size, shuffle=True)\n",
    "val_data_iter = mx.io.NDArrayIter(test_data_array, test_label_array, batch_size, shuffle=True)"
   ]
  },
  {
   "cell_type": "code",
   "execution_count": 26,
   "metadata": {},
   "outputs": [],
   "source": [
    "# defining a neural net\n",
    "net = nn.Sequential()\n",
    "with net.name_scope():\n",
    "    net.add(nn.Dense(units=200, activation='relu', use_bias=True, dtype='float32', in_units=784))\n",
    "    net.add(nn.Dense(units=100, activation='relu', use_bias=True, dtype='float32', in_units=200))\n",
    "    net.add(nn.Dense(units=10, activation=None, use_bias=True, dtype='float32', in_units=100))"
   ]
  },
  {
   "cell_type": "code",
   "execution_count": 27,
   "metadata": {},
   "outputs": [],
   "source": [
    "# Initializing the parameters for the neural net\n",
    "net.initialize(mx.initializer.Uniform(), ctx=model_ctx)"
   ]
  },
  {
   "cell_type": "code",
   "execution_count": 28,
   "metadata": {},
   "outputs": [],
   "source": [
    "# defining the trainer with SGD optimizer\n",
    "trainer = mx.gluon.Trainer(net.collect_params(), 'sgd', {'learning_rate': learning_rate})"
   ]
  },
  {
   "cell_type": "code",
   "execution_count": 29,
   "metadata": {},
   "outputs": [],
   "source": [
    "# setting the number of epochs and metric\n",
    "num_of_epochs = 10\n",
    "metric = mx.metric.Accuracy()\n",
    "loss = mx.gluon.loss.SoftmaxCrossEntropyLoss()"
   ]
  },
  {
   "cell_type": "code",
   "execution_count": 30,
   "metadata": {},
   "outputs": [],
   "source": [
    "def training_function():\n",
    "    combined_data_iter.reset()\n",
    "    for batch in combined_data_iter:\n",
    "        data = mx.gluon.utils.split_and_load(batch.data[0], ctx_list=[model_ctx], batch_axis=0)\n",
    "        label = mx.gluon.utils.split_and_load(batch.label[0], ctx_list=[model_ctx], batch_axis=0)\n",
    "        outputs = []\n",
    "        with mx.autograd.record():\n",
    "            for x, y in zip(data, label):\n",
    "                z = net(x)\n",
    "                loss_value = loss(z, y)\n",
    "                loss_value.backward()\n",
    "                outputs.append(z)\n",
    "        trainer.step(batch.data[0].shape[0])\n",
    "        metric.update(label, outputs)\n",
    "    metric.reset()"
   ]
  },
  {
   "cell_type": "code",
   "execution_count": 31,
   "metadata": {},
   "outputs": [],
   "source": [
    "# running the iteration once before starting the profiler\n",
    "training_function()"
   ]
  },
  {
   "cell_type": "code",
   "execution_count": 32,
   "metadata": {},
   "outputs": [],
   "source": [
    "mx.nd.waitall() \n",
    "\n",
    "# starting the profiler\n",
    "profiler.set_state('run')\n",
    "start = time.time()"
   ]
  },
  {
   "cell_type": "code",
   "execution_count": 33,
   "metadata": {},
   "outputs": [],
   "source": [
    "for epoch in range(num_of_epochs):\n",
    "    training_function()"
   ]
  },
  {
   "cell_type": "code",
   "execution_count": 34,
   "metadata": {},
   "outputs": [],
   "source": [
    "# waiting for all operations to end, then stopping the profiler\n",
    "mx.nd.waitall()\n",
    "end = time.time()\n",
    "profiler.set_state('stop')"
   ]
  },
  {
   "cell_type": "code",
   "execution_count": 35,
   "metadata": {},
   "outputs": [],
   "source": [
    "results = profiler.dumps()"
   ]
  },
  {
   "cell_type": "code",
   "execution_count": 36,
   "metadata": {},
   "outputs": [],
   "source": [
    "result = results\n",
    "result = result.split('\\n')"
   ]
  },
  {
   "cell_type": "code",
   "execution_count": 37,
   "metadata": {},
   "outputs": [],
   "source": [
    "# splitting the result into a list of lists\n",
    "for i in range(len(result)):\n",
    "    result[i] = result[i].split()"
   ]
  },
  {
   "cell_type": "code",
   "execution_count": 38,
   "metadata": {},
   "outputs": [],
   "source": [
    "# extracting the maximum gpu and cpu memory usage and the total execution time\n",
    "max_gpu_use = 0\n",
    "max_cpu_use = 0\n",
    "total_execution_time = 0\n",
    "# traversing over the lists and trying to find the maximum gpu and cpu memory usage and the total execution time\n",
    "for i in result:\n",
    "    if (len(i)>=1 and i[0]=='Memory:'):\n",
    "        if (i[1]=='gpu/0'):\n",
    "            max_gpu_use = float(i[-2])\n",
    "        elif (i[1]=='cpu/0'):\n",
    "            max_cpu_use = float(i[-2])\n",
    "        else: continue\n",
    "    # if the length of the list 6 and the second to sixth elements are numbers, then it is a time entry\n",
    "    else:\n",
    "        if (len(i)>=6):\n",
    "            # if it is a valid time entry, then add it to the total execution time\n",
    "            if (re.match(r'^-?\\d+(?:\\.\\d+)$', i[-4]) is not None):\n",
    "                total_execution_time += float(i[-4])\n",
    "\n",
    "if (total_execution_time==0):\n",
    "    total_execution_time = (end - start)*1000"
   ]
  },
  {
   "cell_type": "code",
   "execution_count": 39,
   "metadata": {},
   "outputs": [],
   "source": [
    "# Prediction\n",
    "metric = mx.metric.Accuracy()\n",
    "val_data_iter.reset()\n",
    "for batch in val_data_iter:\n",
    "    data = mx.gluon.utils.split_and_load(batch.data[0], ctx_list = [model_ctx], batch_axis=0)\n",
    "    label = mx.gluon.utils.split_and_load(batch.label[0], ctx_list = [model_ctx], batch_axis=0)\n",
    "    outputs = []\n",
    "    for x in data:\n",
    "        outputs.append(net(x))\n",
    "    metric.update(label, outputs)\n",
    "val_accuracy = metric.get()"
   ]
  },
  {
   "cell_type": "code",
   "execution_count": 40,
   "metadata": {},
   "outputs": [
    {
     "name": "stdout",
     "output_type": "stream",
     "text": [
      "Maximum GPU memory usage: 188160.0 KB\n",
      "Maximum CPU memory usage: 0 KB\n",
      "Total execution time: 22492.034899999995 milli seconds (ms)\n",
      "Validation accuracy: 97.69 %\n"
     ]
    }
   ],
   "source": [
    "print(f\"Maximum GPU memory usage: {max_gpu_use} KB\")\n",
    "print(f\"Maximum CPU memory usage: {max_cpu_use} KB\")\n",
    "print(f\"Total execution time: {total_execution_time} milli seconds (ms)\")\n",
    "print(f\"Validation accuracy: {val_accuracy[1]*100} %\")"
   ]
  }
 ],
 "metadata": {
  "kernelspec": {
   "display_name": "env1",
   "language": "python",
   "name": "python3"
  },
  "language_info": {
   "codemirror_mode": {
    "name": "ipython",
    "version": 3
   },
   "file_extension": ".py",
   "mimetype": "text/x-python",
   "name": "python",
   "nbconvert_exporter": "python",
   "pygments_lexer": "ipython3",
   "version": "3.6.13"
  },
  "orig_nbformat": 4
 },
 "nbformat": 4,
 "nbformat_minor": 2
}
