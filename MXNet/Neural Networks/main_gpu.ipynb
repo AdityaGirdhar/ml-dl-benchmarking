{
 "cells": [
  {
   "cell_type": "code",
   "execution_count": 1,
   "metadata": {},
   "outputs": [],
   "source": [
    "from mxnet import nd\n",
    "from mxnet.gluon import nn\n",
    "import pandas as pd\n",
    "import mxnet as mx\n",
    "import time\n",
    "data_ctx = mx.gpu()\n",
    "model_ctx = mx.gpu()        \n",
    "mx.random.seed(42, ctx=model_ctx)"
   ]
  },
  {
   "cell_type": "code",
   "execution_count": 2,
   "metadata": {},
   "outputs": [],
   "source": [
    "# loading the dataset using mx.test_utils\n",
    "mnist = mx.test_utils.get_mnist()\n",
    "batch_size = 100\n",
    "learning_rate = 0.1\n",
    "\n",
    "# Convert training and validation data to NDArray format\n",
    "train_data_array = mx.nd.array(mnist['train_data'])\n",
    "train_label_array = mx.nd.array(mnist['train_label'])\n",
    "test_data_array = mx.nd.array(mnist['test_data'])\n",
    "test_label_array = mx.nd.array(mnist['test_label'])\n",
    "\n",
    "# Combine training and validation data\n",
    "combined_data = mx.nd.concatenate([train_data_array, test_data_array], axis=0)\n",
    "combined_label = mx.nd.concatenate([train_label_array, test_label_array], axis=0)\n",
    "\n",
    "# Create an iterator with combined data\n",
    "combined_data_iter = mx.io.NDArrayIter(combined_data, combined_label, batch_size, shuffle=True)"
   ]
  },
  {
   "cell_type": "code",
   "execution_count": 3,
   "metadata": {},
   "outputs": [],
   "source": [
    "# defining a neural net\n",
    "net = nn.Sequential()\n",
    "with net.name_scope():\n",
    "    net.add(nn.Dense(units=200, activation='relu', use_bias=True, dtype='float32', in_units=784))\n",
    "    net.add(nn.Dense(units=100, activation='relu', use_bias=True, dtype='float32', in_units=200))\n",
    "    net.add(nn.Dense(units=10, activation=None, use_bias=True, dtype='float32', in_units=100))"
   ]
  },
  {
   "cell_type": "code",
   "execution_count": 4,
   "metadata": {},
   "outputs": [],
   "source": [
    "net.initialize(mx.initializer.Uniform(), ctx=model_ctx)"
   ]
  },
  {
   "cell_type": "code",
   "execution_count": 5,
   "metadata": {},
   "outputs": [],
   "source": [
    "trainer = mx.gluon.Trainer(net.collect_params(), 'sgd', {'learning_rate': learning_rate})"
   ]
  },
  {
   "cell_type": "code",
   "execution_count": 6,
   "metadata": {},
   "outputs": [],
   "source": [
    "num_of_epochs = 10\n",
    "metric = mx.metric.Accuracy()\n",
    "loss = mx.gluon.loss.SoftmaxCrossEntropyLoss()"
   ]
  },
  {
   "cell_type": "code",
   "execution_count": 7,
   "metadata": {},
   "outputs": [],
   "source": [
    "start = time.time()"
   ]
  },
  {
   "cell_type": "code",
   "execution_count": 8,
   "metadata": {},
   "outputs": [],
   "source": [
    "for i in range(num_of_epochs):\n",
    "    combined_data_iter.reset()\n",
    "    for batch in combined_data_iter:\n",
    "        data = mx.gluon.utils.split_and_load(batch.data[0], ctx_list=[data_ctx], batch_axis=0)\n",
    "        label = mx.gluon.utils.split_and_load(batch.label[0], ctx_list=[data_ctx], batch_axis=0)\n",
    "        outputs = []\n",
    "        with mx.autograd.record():\n",
    "            for x, y in zip(data, label):\n",
    "                z = net(x)\n",
    "                loss_value = loss(z, y)\n",
    "                loss_value.backward()\n",
    "                outputs.append(z)\n",
    "        metric.update(label, outputs)\n",
    "        trainer.step(batch.data[0].shape[0])\n",
    "    metric.reset()"
   ]
  },
  {
   "cell_type": "code",
   "execution_count": 9,
   "metadata": {},
   "outputs": [],
   "source": [
    "end = time.time()"
   ]
  },
  {
   "cell_type": "code",
   "execution_count": 10,
   "metadata": {},
   "outputs": [
    {
     "name": "stdout",
     "output_type": "stream",
     "text": [
      "Time taken to train the model: 19.209173679351807 seconds\n"
     ]
    }
   ],
   "source": [
    "print(f\"Time taken to train the model: {end - start} seconds\")"
   ]
  }
 ],
 "metadata": {
  "kernelspec": {
   "display_name": "env1",
   "language": "python",
   "name": "python3"
  },
  "language_info": {
   "codemirror_mode": {
    "name": "ipython",
    "version": 3
   },
   "file_extension": ".py",
   "mimetype": "text/x-python",
   "name": "python",
   "nbconvert_exporter": "python",
   "pygments_lexer": "ipython3",
   "version": "3.6.13"
  },
  "orig_nbformat": 4
 },
 "nbformat": 4,
 "nbformat_minor": 2
}
