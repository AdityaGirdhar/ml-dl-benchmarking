{
 "cells": [
  {
   "cell_type": "code",
   "execution_count": 1,
   "metadata": {},
   "outputs": [],
   "source": [
    "from mxnet import nd\n",
    "from mxnet.gluon import nn\n",
    "import pandas as pd\n",
    "import mxnet as mx\n",
    "from mxnet import profiler\n",
    "import re\n",
    "import time\n",
    "# setting the context for the program \n",
    "mx.test_utils.list_gpus()\n",
    "if mx.context.num_gpus() > 0:\n",
    "    data_ctx = mx.gpu()\n",
    "    model_ctx = mx.gpu()\n",
    "else:\n",
    "    data_ctx = mx.cpu()\n",
    "    model_ctx = mx.cpu()\n",
    "mx.random.seed(42, ctx=model_ctx)"
   ]
  },
  {
   "cell_type": "code",
   "execution_count": 2,
   "metadata": {},
   "outputs": [],
   "source": [
    "# setting the profiler for measuring the execution time and memory usage\n",
    "profiler.set_config(profile_all=False,profile_symbolic = False, profile_imperative = False,profile_memory = True, profile_api = True, aggregate_stats=True,continuous_dump=False, filename='neural_net_gpu_profile.json')"
   ]
  },
  {
   "cell_type": "code",
   "execution_count": 3,
   "metadata": {},
   "outputs": [],
   "source": [
    "# loading the dataset using mx.test_utils\n",
    "mnist = mx.test_utils.get_mnist()\n",
    "batch_size = 100\n",
    "learning_rate = 0.1\n",
    "\n",
    "# Convert training and validation data to NDArray format\n",
    "train_data_array = mx.nd.array(mnist['train_data'], ctx=data_ctx)\n",
    "train_label_array = mx.nd.array(mnist['train_label'], ctx=data_ctx)\n",
    "test_data_array = mx.nd.array(mnist['test_data'], ctx=data_ctx)\n",
    "test_label_array = mx.nd.array(mnist['test_label'], ctx=data_ctx)\n",
    "\n",
    "# Create an iterator with combined data\n",
    "combined_data_iter = mx.io.NDArrayIter(train_data_array, train_label_array, batch_size, shuffle=True)\n",
    "val_data_iter = mx.io.NDArrayIter(test_data_array, test_label_array, batch_size, shuffle=True)"
   ]
  },
  {
   "cell_type": "markdown",
   "metadata": {},
   "source": [
    "Neural network construction"
   ]
  },
  {
   "cell_type": "code",
   "execution_count": 4,
   "metadata": {},
   "outputs": [],
   "source": [
    "# defining a neural net\n",
    "net = nn.Sequential()\n",
    "with net.name_scope():\n",
    "    net.add(nn.Dense(units=200, activation='relu', use_bias=True, dtype='float32', in_units=784))\n",
    "    net.add(nn.Dense(units=100, activation='relu', use_bias=True, dtype='float32', in_units=200))\n",
    "    net.add(nn.Dense(units=10, activation=None, use_bias=True, dtype='float32', in_units=100))"
   ]
  },
  {
   "cell_type": "code",
   "execution_count": 5,
   "metadata": {},
   "outputs": [],
   "source": [
    "# Initializing the parameters for the neural net\n",
    "net.initialize(mx.initializer.Uniform(), ctx=model_ctx)"
   ]
  },
  {
   "cell_type": "code",
   "execution_count": 6,
   "metadata": {},
   "outputs": [],
   "source": [
    "# defining the trainer with SGD optimizer\n",
    "trainer = mx.gluon.Trainer(net.collect_params(), 'sgd', {'learning_rate': learning_rate})"
   ]
  },
  {
   "cell_type": "code",
   "execution_count": 7,
   "metadata": {},
   "outputs": [],
   "source": [
    "# setting the number of epochs and metric\n",
    "num_of_epochs = 10\n",
    "metric = mx.metric.Accuracy()\n",
    "loss = mx.gluon.loss.SoftmaxCrossEntropyLoss()"
   ]
  },
  {
   "cell_type": "markdown",
   "metadata": {},
   "source": [
    "Training loop"
   ]
  },
  {
   "cell_type": "code",
   "execution_count": 8,
   "metadata": {},
   "outputs": [],
   "source": [
    "def training_function():\n",
    "    combined_data_iter.reset()\n",
    "    for batch in combined_data_iter:\n",
    "        data = mx.gluon.utils.split_and_load(batch.data[0], ctx_list=[model_ctx], batch_axis=0)\n",
    "        label = mx.gluon.utils.split_and_load(batch.label[0], ctx_list=[model_ctx], batch_axis=0)\n",
    "        outputs = []\n",
    "        with mx.autograd.record():\n",
    "            for x, y in zip(data, label):\n",
    "                z = net(x)\n",
    "                loss_value = loss(z, y)\n",
    "                loss_value.backward()\n",
    "                outputs.append(z)\n",
    "        trainer.step(batch.data[0].shape[0])\n",
    "        metric.update(label, outputs)\n",
    "    metric.reset()"
   ]
  },
  {
   "cell_type": "code",
   "execution_count": 9,
   "metadata": {},
   "outputs": [],
   "source": [
    "# running the iteration once before starting the profiler\n",
    "training_function()"
   ]
  },
  {
   "cell_type": "code",
   "execution_count": 10,
   "metadata": {},
   "outputs": [],
   "source": [
    "mx.nd.waitall() \n",
    "\n",
    "# starting the profiler\n",
    "profiler.set_state('run')\n",
    "start = time.time()"
   ]
  },
  {
   "cell_type": "code",
   "execution_count": 11,
   "metadata": {},
   "outputs": [],
   "source": [
    "for epoch in range(num_of_epochs):\n",
    "    training_function()"
   ]
  },
  {
   "cell_type": "code",
   "execution_count": 12,
   "metadata": {},
   "outputs": [],
   "source": [
    "# waiting for all operations to end, then stopping the profiler\n",
    "mx.nd.waitall()\n",
    "end = time.time()\n",
    "profiler.set_state('stop')"
   ]
  },
  {
   "cell_type": "code",
   "execution_count": 13,
   "metadata": {},
   "outputs": [],
   "source": [
    "results = profiler.dumps()"
   ]
  },
  {
   "cell_type": "code",
   "execution_count": 14,
   "metadata": {},
   "outputs": [],
   "source": [
    "result = results\n",
    "result = result.split('\\n')"
   ]
  },
  {
   "cell_type": "code",
   "execution_count": 15,
   "metadata": {},
   "outputs": [],
   "source": [
    "# splitting the result into a list of lists\n",
    "for i in range(len(result)):\n",
    "    result[i] = result[i].split()"
   ]
  },
  {
   "cell_type": "code",
   "execution_count": 16,
   "metadata": {},
   "outputs": [],
   "source": [
    "# extracting the maximum gpu and cpu memory usage and the total execution time\n",
    "max_gpu_use = 0\n",
    "max_cpu_use = 0\n",
    "total_execution_time = 0\n",
    "# traversing over the lists and trying to find the maximum gpu and cpu memory usage and the total execution time\n",
    "for i in result:\n",
    "    if (len(i)>=1 and i[0]=='Memory:'):\n",
    "        if (i[1]=='gpu/0'):\n",
    "            max_gpu_use = float(i[-2])\n",
    "        elif (i[1]=='cpu/0'):\n",
    "            max_cpu_use = float(i[-2])\n",
    "        else: continue\n",
    "    # if the length of the list 6 and the second to sixth elements are numbers, then it is a time entry\n",
    "    else:\n",
    "        if (len(i)>=6):\n",
    "            # if it is a valid time entry, then add it to the total execution time\n",
    "            if (re.match(r'^-?\\d+(?:\\.\\d+)$', i[-4]) is not None):\n",
    "                total_execution_time += float(i[-4])\n",
    "\n",
    "if (total_execution_time==0):\n",
    "    total_execution_time = (end - start)*1000"
   ]
  },
  {
   "cell_type": "code",
   "execution_count": 17,
   "metadata": {},
   "outputs": [
    {
     "name": "stdout",
     "output_type": "stream",
     "text": [
      "Maximum GPU memory usage: 188160.0 KB\n",
      "Maximum CPU memory usage: 0 KB\n",
      "Total execution time: 7233.2889 milli seconds (ms)\n"
     ]
    }
   ],
   "source": [
    "print(f\"Maximum GPU memory usage: {max_gpu_use} KB\")\n",
    "print(f\"Maximum CPU memory usage: {max_cpu_use} KB\")\n",
    "print(f\"Total execution time: {total_execution_time} milli seconds (ms)\")"
   ]
  },
  {
   "cell_type": "code",
   "execution_count": 18,
   "metadata": {},
   "outputs": [],
   "source": [
    "# set the profiler to default\n",
    "profiler.set_config(profile_all=False,profile_symbolic = False, profile_imperative = False,profile_memory = False, profile_api = True, aggregate_stats=True,continuous_dump=False, filename='neural_net_gpu_profile.json')"
   ]
  },
  {
   "cell_type": "code",
   "execution_count": 19,
   "metadata": {},
   "outputs": [],
   "source": [
    "mx.nd.waitall() \n",
    "\n",
    "# starting the profiler\n",
    "profiler.set_state('run')\n",
    "start = time.time()"
   ]
  },
  {
   "cell_type": "code",
   "execution_count": 20,
   "metadata": {},
   "outputs": [],
   "source": [
    "# predictions on the training data\n",
    "combined_data_iter.reset()\n",
    "for batch in combined_data_iter:\n",
    "    data = mx.gluon.utils.split_and_load(batch.data[0], ctx_list = [model_ctx], batch_axis=0)\n",
    "    label = mx.gluon.utils.split_and_load(batch.label[0], ctx_list = [model_ctx], batch_axis=0)\n",
    "    outputs = []\n",
    "    for x in data:\n",
    "        outputs.append(net(x))\n",
    "    metric.update(label, outputs)\n",
    "combined_accuracy = metric.get()\n",
    "# predictions on the validation data\n",
    "val_data_iter.reset()\n",
    "for batch in val_data_iter:\n",
    "    data = mx.gluon.utils.split_and_load(batch.data[0], ctx_list = [model_ctx], batch_axis=0)\n",
    "    label = mx.gluon.utils.split_and_load(batch.label[0], ctx_list = [model_ctx], batch_axis=0)\n",
    "    outputs = []\n",
    "    for x in data:\n",
    "        outputs.append(net(x))\n",
    "    metric.update(label, outputs)\n",
    "val_accuracy = metric.get()"
   ]
  },
  {
   "cell_type": "code",
   "execution_count": 21,
   "metadata": {},
   "outputs": [],
   "source": [
    "# waiting for all operations to end, then stopping the profiler\n",
    "mx.nd.waitall()\n",
    "end = time.time()\n",
    "profiler.set_state('stop')"
   ]
  },
  {
   "cell_type": "code",
   "execution_count": 22,
   "metadata": {},
   "outputs": [],
   "source": [
    "# evaluating the performance on the predictions\n",
    "combined_accuracy = combined_accuracy[1]\n",
    "val_accuracy = val_accuracy[1]"
   ]
  },
  {
   "cell_type": "code",
   "execution_count": 23,
   "metadata": {},
   "outputs": [],
   "source": [
    "results = profiler.dumps()\n",
    "result = results\n",
    "result = result.split('\\n')\n",
    "# splitting the result into a list of lists\n",
    "for i in range(len(result)):\n",
    "    result[i] = result[i].split() \n",
    "# parsing the profiler data\n",
    "total_execution_time = 0\n",
    "for i in result:\n",
    "    if (len(i)>=6):\n",
    "        if (re.match(r'^-?\\d+(?:\\.\\d+)$', i[-4]) is not None):\n",
    "            total_execution_time += float(i[-4])\n",
    "\n",
    "if (total_execution_time==0):\n",
    "    total_execution_time = (end - start)*1000"
   ]
  },
  {
   "cell_type": "code",
   "execution_count": 26,
   "metadata": {},
   "outputs": [
    {
     "name": "stdout",
     "output_type": "stream",
     "text": [
      "Total execution time: 8484.9892 milli seconds (ms)\n",
      "Training accuracy: 99.22 %\n",
      "Validation accuracy: 99.01714285714286 %\n"
     ]
    }
   ],
   "source": [
    "print(f\"Total execution time: {total_execution_time} milli seconds (ms)\")\n",
    "print(f\"Training accuracy: {combined_accuracy*100} %\")\n",
    "print(f\"Validation accuracy: {val_accuracy*100} %\")"
   ]
  }
 ],
 "metadata": {
  "kernelspec": {
   "display_name": "env1",
   "language": "python",
   "name": "python3"
  },
  "language_info": {
   "codemirror_mode": {
    "name": "ipython",
    "version": 3
   },
   "file_extension": ".py",
   "mimetype": "text/x-python",
   "name": "python",
   "nbconvert_exporter": "python",
   "pygments_lexer": "ipython3",
   "version": "3.6.13"
  },
  "orig_nbformat": 4
 },
 "nbformat": 4,
 "nbformat_minor": 2
}
