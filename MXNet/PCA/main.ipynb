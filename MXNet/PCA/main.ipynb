{
 "cells": [
  {
   "attachments": {},
   "cell_type": "markdown",
   "metadata": {},
   "source": [
    "### Principal Component Analysis\n",
    "\n",
    "Principal Component Analysis is used to reduce the dimensionality of the data. It is implemented using the following steps:\n",
    "1. Standardize the data.\n",
    "2. Compute the covariance matrix of the data.\n",
    "3. Compute the eigenvectors and eigenvalues of the covariance matrix.\n",
    "4. Sort the eigenvalues in descending order.\n",
    "5. Select the first k eigenvectors.\n",
    "6. Transform the original data using the eigenvectors."
   ]
  },
  {
   "cell_type": "code",
   "execution_count": 71,
   "metadata": {},
   "outputs": [],
   "source": [
    "from mxnet import nd\n",
    "from mxnet.gluon import nn\n",
    "from mxnet import autograd\n",
    "from mxnet import gluon\n",
    "from mxnet import np, npx\n",
    "from PCA import PrincipalComponentAnalysis\n",
    "npx.set_np()\n",
    "data_ctx = mx.cpu()\n",
    "model_ctx = mx.cpu()"
   ]
  },
  {
   "cell_type": "code",
   "execution_count": 72,
   "metadata": {},
   "outputs": [],
   "source": [
    "# reading the data from the DAT file\n",
    "data = np.genfromtxt('airfoil_self_noise.dat', delimiter='\\t')\n",
    "# splitting the data into features and labels\n",
    "features = data[:, :-1]\n",
    "labels = data[:, -1]"
   ]
  },
  {
   "cell_type": "code",
   "execution_count": 73,
   "metadata": {},
   "outputs": [],
   "source": [
    "PCA = PrincipalComponentAnalysis(n_components = 2, X = features)\n",
    "# fitting and transforming the data using custom PCA implementation using MXNet\n",
    "X_transformed = PCA.fit_transform()"
   ]
  },
  {
   "cell_type": "code",
   "execution_count": 74,
   "metadata": {},
   "outputs": [
    {
     "name": "stdout",
     "output_type": "stream",
     "text": [
      "Shape of features:  (1503, 5)\n",
      "Shape of transformed features:  (1503, 2)\n"
     ]
    }
   ],
   "source": [
    "print(\"Shape of features: \", features.shape)\n",
    "print(\"Shape of transformed features: \", X_transformed.shape)"
   ]
  }
 ],
 "metadata": {
  "kernelspec": {
   "display_name": "Python 3",
   "language": "python",
   "name": "python3"
  },
  "language_info": {
   "codemirror_mode": {
    "name": "ipython",
    "version": 3
   },
   "file_extension": ".py",
   "mimetype": "text/x-python",
   "name": "python",
   "nbconvert_exporter": "python",
   "pygments_lexer": "ipython3",
   "version": "3.10.1"
  },
  "orig_nbformat": 4
 },
 "nbformat": 4,
 "nbformat_minor": 2
}
