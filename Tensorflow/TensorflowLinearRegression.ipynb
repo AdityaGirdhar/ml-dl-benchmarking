{
  "cells": [
    {
      "cell_type": "markdown",
      "metadata": {
        "id": "O9kOeEvNvmes"
      },
      "source": [
        "## Linear Regression using Tensorflow"
      ]
    },
    {
      "cell_type": "code",
      "execution_count": 1,
      "metadata": {
        "id": "uJmOggt_vjto"
      },
      "outputs": [],
      "source": [
        "import numpy as np\n",
        "import pandas as pd\n",
        "import tensorflow as tf\n",
        "import matplotlib.pyplot as plt"
      ]
    },
    {
      "cell_type": "code",
      "execution_count": 2,
      "metadata": {
        "id": "UfoOFx9JvwtX"
      },
      "outputs": [],
      "source": [
        "data = np.loadtxt(\"airfoil_self_noise.dat\")"
      ]
    },
    {
      "cell_type": "code",
      "execution_count": 3,
      "metadata": {
        "id": "ahlGeKahvy5U"
      },
      "outputs": [],
      "source": [
        "cols = [\"frequency\", \"angleofattack\", \"chordlength\", \"freestreamvelocity\", \"suctionsidedisplacement\" , \"soundpressure\"]\n",
        "df = pd.DataFrame(data, columns=cols)"
      ]
    },
    {
      "cell_type": "code",
      "execution_count": 4,
      "metadata": {
        "colab": {
          "base_uri": "https://localhost:8080/",
          "height": 206
        },
        "id": "sPAkSqJHv9kT",
        "outputId": "356e3d1a-3976-4f8b-8a3d-c3c7fcca03c1"
      },
      "outputs": [
        {
          "data": {
            "text/html": [
              "<div>\n",
              "<style scoped>\n",
              "    .dataframe tbody tr th:only-of-type {\n",
              "        vertical-align: middle;\n",
              "    }\n",
              "\n",
              "    .dataframe tbody tr th {\n",
              "        vertical-align: top;\n",
              "    }\n",
              "\n",
              "    .dataframe thead th {\n",
              "        text-align: right;\n",
              "    }\n",
              "</style>\n",
              "<table border=\"1\" class=\"dataframe\">\n",
              "  <thead>\n",
              "    <tr style=\"text-align: right;\">\n",
              "      <th></th>\n",
              "      <th>frequency</th>\n",
              "      <th>angleofattack</th>\n",
              "      <th>chordlength</th>\n",
              "      <th>freestreamvelocity</th>\n",
              "      <th>suctionsidedisplacement</th>\n",
              "      <th>soundpressure</th>\n",
              "    </tr>\n",
              "  </thead>\n",
              "  <tbody>\n",
              "    <tr>\n",
              "      <th>0</th>\n",
              "      <td>800.0</td>\n",
              "      <td>0.0</td>\n",
              "      <td>0.3048</td>\n",
              "      <td>71.3</td>\n",
              "      <td>0.002663</td>\n",
              "      <td>126.201</td>\n",
              "    </tr>\n",
              "    <tr>\n",
              "      <th>1</th>\n",
              "      <td>1000.0</td>\n",
              "      <td>0.0</td>\n",
              "      <td>0.3048</td>\n",
              "      <td>71.3</td>\n",
              "      <td>0.002663</td>\n",
              "      <td>125.201</td>\n",
              "    </tr>\n",
              "    <tr>\n",
              "      <th>2</th>\n",
              "      <td>1250.0</td>\n",
              "      <td>0.0</td>\n",
              "      <td>0.3048</td>\n",
              "      <td>71.3</td>\n",
              "      <td>0.002663</td>\n",
              "      <td>125.951</td>\n",
              "    </tr>\n",
              "    <tr>\n",
              "      <th>3</th>\n",
              "      <td>1600.0</td>\n",
              "      <td>0.0</td>\n",
              "      <td>0.3048</td>\n",
              "      <td>71.3</td>\n",
              "      <td>0.002663</td>\n",
              "      <td>127.591</td>\n",
              "    </tr>\n",
              "    <tr>\n",
              "      <th>4</th>\n",
              "      <td>2000.0</td>\n",
              "      <td>0.0</td>\n",
              "      <td>0.3048</td>\n",
              "      <td>71.3</td>\n",
              "      <td>0.002663</td>\n",
              "      <td>127.461</td>\n",
              "    </tr>\n",
              "  </tbody>\n",
              "</table>\n",
              "</div>"
            ],
            "text/plain": [
              "   frequency  angleofattack  chordlength  freestreamvelocity  \\\n",
              "0      800.0            0.0       0.3048                71.3   \n",
              "1     1000.0            0.0       0.3048                71.3   \n",
              "2     1250.0            0.0       0.3048                71.3   \n",
              "3     1600.0            0.0       0.3048                71.3   \n",
              "4     2000.0            0.0       0.3048                71.3   \n",
              "\n",
              "   suctionsidedisplacement  soundpressure  \n",
              "0                 0.002663        126.201  \n",
              "1                 0.002663        125.201  \n",
              "2                 0.002663        125.951  \n",
              "3                 0.002663        127.591  \n",
              "4                 0.002663        127.461  "
            ]
          },
          "execution_count": 4,
          "metadata": {},
          "output_type": "execute_result"
        }
      ],
      "source": [
        "df.head()"
      ]
    },
    {
      "cell_type": "markdown",
      "metadata": {
        "id": "8p1rdFsYwKLe"
      },
      "source": [
        "Split the data into training and validation sets"
      ]
    },
    {
      "cell_type": "code",
      "execution_count": 5,
      "metadata": {
        "id": "HiAIcUZsv_fZ"
      },
      "outputs": [],
      "source": [
        "features = df.iloc[:, :5]  # Features\n",
        "target = df.iloc[:, -1]  # Target"
      ]
    },
    {
      "cell_type": "code",
      "execution_count": 6,
      "metadata": {
        "id": "ZRR6IXcFwN72"
      },
      "outputs": [],
      "source": [
        "# len(X)"
      ]
    },
    {
      "cell_type": "code",
      "execution_count": 7,
      "metadata": {
        "id": "OKFqYzTewg-D"
      },
      "outputs": [],
      "source": [
        "# len(y)"
      ]
    },
    {
      "cell_type": "code",
      "execution_count": 8,
      "metadata": {
        "id": "20ikUmXkwlFX"
      },
      "outputs": [],
      "source": [
        "# X"
      ]
    },
    {
      "cell_type": "code",
      "execution_count": 9,
      "metadata": {
        "id": "sVqVpEFcwiLH"
      },
      "outputs": [],
      "source": [
        "# X_train, X_val = np.array(X[:-1]), np.array(X[-1:])\n",
        "# y_train, y_val = np.array(y[:-1]), np.array(y[-1:])"
      ]
    },
    {
      "cell_type": "code",
      "execution_count": 10,
      "metadata": {
        "id": "OkXv648C05-K"
      },
      "outputs": [],
      "source": [
        "# Split the data into training and validation sets\n",
        "train_size = int(0.8 * len(features))\n",
        "X_train, X_val = features[:train_size], features[train_size:]\n",
        "y_train, y_val = target[:train_size], target[train_size:]"
      ]
    },
    {
      "cell_type": "code",
      "execution_count": 11,
      "metadata": {
        "id": "GBxQ6ZLnwmyH"
      },
      "outputs": [],
      "source": [
        "# len(X_train)"
      ]
    },
    {
      "cell_type": "markdown",
      "metadata": {
        "id": "DPSjNdT3w263"
      },
      "source": [
        "Model Defined"
      ]
    },
    {
      "cell_type": "code",
      "execution_count": 12,
      "metadata": {
        "id": "wyX4M9lS1TeP"
      },
      "outputs": [],
      "source": [
        "# Normalize the features\n",
        "X_train = (X_train - np.mean(X_train, axis=0)) / np.std(X_train, axis=0)\n",
        "X_val = (X_val - np.mean(X_train, axis=0)) / np.std(X_train, axis=0)"
      ]
    },
    {
      "cell_type": "code",
      "execution_count": 13,
      "metadata": {
        "id": "_gGxDIywwovM"
      },
      "outputs": [],
      "source": [
        "learning_rate = 0.01\n",
        "num_epochs = 1000\n",
        "display_step = 100"
      ]
    },
    {
      "cell_type": "code",
      "execution_count": 14,
      "metadata": {
        "id": "b49Snd2k17eP"
      },
      "outputs": [],
      "source": [
        "# Convert the NumPy arrays to TensorFlow tensors\n",
        "X_train = tf.convert_to_tensor(X_train, dtype=tf.float32)\n",
        "y_train = tf.convert_to_tensor(y_train, dtype=tf.float32)\n",
        "X_val = tf.convert_to_tensor(X_val, dtype=tf.float32)\n",
        "y_val = tf.convert_to_tensor(y_val, dtype=tf.float32)"
      ]
    },
    {
      "cell_type": "code",
      "execution_count": 15,
      "metadata": {
        "id": "bxnfJxx-w9I9"
      },
      "outputs": [],
      "source": [
        "# Define variables for weights and bias\n",
        "W = tf.Variable(tf.zeros([X_train.shape[1], 1]))\n",
        "b = tf.Variable(tf.zeros([1]))"
      ]
    },
    {
      "cell_type": "code",
      "execution_count": 16,
      "metadata": {
        "id": "UM0hD27MxL2v"
      },
      "outputs": [],
      "source": [
        "# Define the linear regression model\n",
        "def linear_regression(X):\n",
        "    return tf.matmul(X, W) + b"
      ]
    },
    {
      "cell_type": "code",
      "execution_count": 17,
      "metadata": {
        "id": "0nPZLKvdxOHx"
      },
      "outputs": [],
      "source": [
        "# Define the mean squared error loss function\n",
        "def loss_fn(y_true, y_pred):\n",
        "    return tf.reduce_mean(tf.square(y_true - y_pred))"
      ]
    },
    {
      "cell_type": "code",
      "execution_count": 18,
      "metadata": {
        "id": "ephClfOExQ-N"
      },
      "outputs": [],
      "source": [
        "# Optimizer\n",
        "optimizer = tf.keras.optimizers.SGD(learning_rate)"
      ]
    },
    {
      "cell_type": "code",
      "execution_count": 19,
      "metadata": {
        "colab": {
          "base_uri": "https://localhost:8080/"
        },
        "id": "0_7zRcEJxtPp",
        "outputId": "e04fbaf8-d529-40b1-afe6-57062faa0528"
      },
      "outputs": [
        {
          "name": "stdout",
          "output_type": "stream",
          "text": [
            "Epoch: 0100 loss= 329.400451660\n",
            "Epoch: 0200 loss= 50.061168671\n",
            "Epoch: 0300 loss= 45.148185730\n",
            "Epoch: 0400 loss= 45.061779022\n",
            "Epoch: 0500 loss= 45.060260773\n",
            "Epoch: 0600 loss= 45.060234070\n",
            "Epoch: 0700 loss= 45.060230255\n",
            "Epoch: 0800 loss= 45.060230255\n",
            "Epoch: 0900 loss= 45.060230255\n",
            "Epoch: 1000 loss= 45.060230255\n",
            "Training completed!\n"
          ]
        }
      ],
      "source": [
        "# Start the training loop\n",
        "for epoch in range(num_epochs):\n",
        "    with tf.GradientTape() as tape:\n",
        "        # Forward pass\n",
        "        pred = linear_regression(X_train)\n",
        "        loss = loss_fn(y_train, pred)\n",
        "    \n",
        "    # Calculate gradients\n",
        "    gradients = tape.gradient(loss, [W, b])\n",
        "    \n",
        "    # Update weights and bias\n",
        "    optimizer.apply_gradients(zip(gradients, [W, b]))\n",
        "\n",
        "    if (epoch + 1) % display_step == 0:\n",
        "        print(\"Epoch:\", '%04d' % (epoch + 1), \"loss=\", \"{:.9f}\".format(loss))\n",
        "\n",
        "print(\"Training completed!\")"
      ]
    },
    {
      "cell_type": "code",
      "execution_count": 20,
      "metadata": {
        "colab": {
          "base_uri": "https://localhost:8080/"
        },
        "id": "tiC9Y4asx4rH",
        "outputId": "86a9801d-8971-45b5-9eca-2b4216a040f0"
      },
      "outputs": [
        {
          "name": "stdout",
          "output_type": "stream",
          "text": [
            "Validation Loss: 57.806217\n"
          ]
        }
      ],
      "source": [
        "# Validation\n",
        "val_pred = linear_regression(X_val)\n",
        "val_loss = loss_fn(y_val, val_pred)\n",
        "print(\"Validation Loss:\", val_loss.numpy())"
      ]
    },
    {
      "cell_type": "code",
      "execution_count": 21,
      "metadata": {
        "colab": {
          "base_uri": "https://localhost:8080/"
        },
        "id": "FSIde_a52rLB",
        "outputId": "76fd6411-45b1-47a7-b4bd-4cebbbbd16cb"
      },
      "outputs": [
        {
          "name": "stdout",
          "output_type": "stream",
          "text": [
            "Validation Accuracy: 0.9492839612066746\n"
          ]
        }
      ],
      "source": [
        "# Calculate validation accuracy\n",
        "val_accuracy = 1 - np.mean(np.abs(val_pred.numpy() - y_val.numpy()) / y_val.numpy())\n",
        "print(\"Validation Accuracy:\", val_accuracy)"
      ]
    }
  ],
  "metadata": {
    "colab": {
      "provenance": []
    },
    "kernelspec": {
      "display_name": "Python 3",
      "name": "python3"
    },
    "language_info": {
      "codemirror_mode": {
        "name": "ipython",
        "version": 3
      },
      "file_extension": ".py",
      "mimetype": "text/x-python",
      "name": "python",
      "nbconvert_exporter": "python",
      "pygments_lexer": "ipython3",
      "version": "3.10.4"
    }
  },
  "nbformat": 4,
  "nbformat_minor": 0
}
