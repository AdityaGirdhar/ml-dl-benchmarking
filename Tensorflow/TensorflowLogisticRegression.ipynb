{
  "cells": [
    {
      "cell_type": "markdown",
      "metadata": {
        "id": "O9kOeEvNvmes"
      },
      "source": [
        "## Logistic Regression using Tensorflow"
      ]
    },
    {
      "cell_type": "code",
      "execution_count": 1,
      "metadata": {
        "id": "uJmOggt_vjto"
      },
      "outputs": [],
      "source": [
        "import numpy as np\n",
        "import pandas as pd\n",
        "import tensorflow as tf\n",
        "# import matplotlib.pyplot as plt"
      ]
    },
    {
      "cell_type": "code",
      "execution_count": 2,
      "metadata": {
        "id": "ahlGeKahvy5U"
      },
      "outputs": [],
      "source": [
        "cols = [\"fLength\", \"fWidth\", \"fSize\", \"fConc\", \"fConc1\", \"fAsym\", \"fM3Long\", \"fM3Trans\", \"fAlpha\", \"fDist\", \"class\"]\n",
        "df = pd.read_csv(\"magic04.data\", names=cols)\n",
        "df[\"class\"] = (df[\"class\"] == \"g\").astype(int)"
      ]
    },
    {
      "cell_type": "code",
      "execution_count": 3,
      "metadata": {
        "colab": {
          "base_uri": "https://localhost:8080/",
          "height": 206
        },
        "id": "Rs8ISBVEkXG2",
        "outputId": "1a0dfad1-1da5-4263-aaea-22ccc73e05d4"
      },
      "outputs": [
        {
          "data": {
            "text/html": [
              "<div>\n",
              "<style scoped>\n",
              "    .dataframe tbody tr th:only-of-type {\n",
              "        vertical-align: middle;\n",
              "    }\n",
              "\n",
              "    .dataframe tbody tr th {\n",
              "        vertical-align: top;\n",
              "    }\n",
              "\n",
              "    .dataframe thead th {\n",
              "        text-align: right;\n",
              "    }\n",
              "</style>\n",
              "<table border=\"1\" class=\"dataframe\">\n",
              "  <thead>\n",
              "    <tr style=\"text-align: right;\">\n",
              "      <th></th>\n",
              "      <th>fLength</th>\n",
              "      <th>fWidth</th>\n",
              "      <th>fSize</th>\n",
              "      <th>fConc</th>\n",
              "      <th>fConc1</th>\n",
              "      <th>fAsym</th>\n",
              "      <th>fM3Long</th>\n",
              "      <th>fM3Trans</th>\n",
              "      <th>fAlpha</th>\n",
              "      <th>fDist</th>\n",
              "      <th>class</th>\n",
              "    </tr>\n",
              "  </thead>\n",
              "  <tbody>\n",
              "    <tr>\n",
              "      <th>0</th>\n",
              "      <td>28.7967</td>\n",
              "      <td>16.0021</td>\n",
              "      <td>2.6449</td>\n",
              "      <td>0.3918</td>\n",
              "      <td>0.1982</td>\n",
              "      <td>27.7004</td>\n",
              "      <td>22.0110</td>\n",
              "      <td>-8.2027</td>\n",
              "      <td>40.0920</td>\n",
              "      <td>81.8828</td>\n",
              "      <td>1</td>\n",
              "    </tr>\n",
              "    <tr>\n",
              "      <th>1</th>\n",
              "      <td>31.6036</td>\n",
              "      <td>11.7235</td>\n",
              "      <td>2.5185</td>\n",
              "      <td>0.5303</td>\n",
              "      <td>0.3773</td>\n",
              "      <td>26.2722</td>\n",
              "      <td>23.8238</td>\n",
              "      <td>-9.9574</td>\n",
              "      <td>6.3609</td>\n",
              "      <td>205.2610</td>\n",
              "      <td>1</td>\n",
              "    </tr>\n",
              "    <tr>\n",
              "      <th>2</th>\n",
              "      <td>162.0520</td>\n",
              "      <td>136.0310</td>\n",
              "      <td>4.0612</td>\n",
              "      <td>0.0374</td>\n",
              "      <td>0.0187</td>\n",
              "      <td>116.7410</td>\n",
              "      <td>-64.8580</td>\n",
              "      <td>-45.2160</td>\n",
              "      <td>76.9600</td>\n",
              "      <td>256.7880</td>\n",
              "      <td>1</td>\n",
              "    </tr>\n",
              "    <tr>\n",
              "      <th>3</th>\n",
              "      <td>23.8172</td>\n",
              "      <td>9.5728</td>\n",
              "      <td>2.3385</td>\n",
              "      <td>0.6147</td>\n",
              "      <td>0.3922</td>\n",
              "      <td>27.2107</td>\n",
              "      <td>-6.4633</td>\n",
              "      <td>-7.1513</td>\n",
              "      <td>10.4490</td>\n",
              "      <td>116.7370</td>\n",
              "      <td>1</td>\n",
              "    </tr>\n",
              "    <tr>\n",
              "      <th>4</th>\n",
              "      <td>75.1362</td>\n",
              "      <td>30.9205</td>\n",
              "      <td>3.1611</td>\n",
              "      <td>0.3168</td>\n",
              "      <td>0.1832</td>\n",
              "      <td>-5.5277</td>\n",
              "      <td>28.5525</td>\n",
              "      <td>21.8393</td>\n",
              "      <td>4.6480</td>\n",
              "      <td>356.4620</td>\n",
              "      <td>1</td>\n",
              "    </tr>\n",
              "  </tbody>\n",
              "</table>\n",
              "</div>"
            ],
            "text/plain": [
              "    fLength    fWidth   fSize   fConc  fConc1     fAsym  fM3Long  fM3Trans  \\\n",
              "0   28.7967   16.0021  2.6449  0.3918  0.1982   27.7004  22.0110   -8.2027   \n",
              "1   31.6036   11.7235  2.5185  0.5303  0.3773   26.2722  23.8238   -9.9574   \n",
              "2  162.0520  136.0310  4.0612  0.0374  0.0187  116.7410 -64.8580  -45.2160   \n",
              "3   23.8172    9.5728  2.3385  0.6147  0.3922   27.2107  -6.4633   -7.1513   \n",
              "4   75.1362   30.9205  3.1611  0.3168  0.1832   -5.5277  28.5525   21.8393   \n",
              "\n",
              "    fAlpha     fDist  class  \n",
              "0  40.0920   81.8828      1  \n",
              "1   6.3609  205.2610      1  \n",
              "2  76.9600  256.7880      1  \n",
              "3  10.4490  116.7370      1  \n",
              "4   4.6480  356.4620      1  "
            ]
          },
          "execution_count": 3,
          "metadata": {},
          "output_type": "execute_result"
        }
      ],
      "source": [
        "df.head()"
      ]
    },
    {
      "cell_type": "code",
      "execution_count": 4,
      "metadata": {
        "id": "FdrCw_upAi1G"
      },
      "outputs": [],
      "source": [
        "tf.random.set_seed(42)\n",
        "np.random.seed(42)"
      ]
    },
    {
      "cell_type": "code",
      "execution_count": 5,
      "metadata": {
        "id": "pbMQhTQ5BDzV"
      },
      "outputs": [],
      "source": [
        "# Shuffle the data\n",
        "df = df.sample(frac=1).reset_index(drop=True)"
      ]
    },
    {
      "cell_type": "code",
      "execution_count": 6,
      "metadata": {
        "id": "9HPBhTR04WVg"
      },
      "outputs": [],
      "source": [
        "# Split the data into features and target\n",
        "features = df.drop('class', axis=1).values\n",
        "target = df[\"class\"].values"
      ]
    },
    {
      "cell_type": "markdown",
      "metadata": {
        "id": "8p1rdFsYwKLe"
      },
      "source": [
        "Split the data into training and validation sets"
      ]
    },
    {
      "cell_type": "code",
      "execution_count": 7,
      "metadata": {
        "id": "OkXv648C05-K"
      },
      "outputs": [],
      "source": [
        "# Split the data into training and validation sets\n",
        "train_size = int(0.8 * len(features))\n",
        "X_train, X_val = features[:train_size], features[train_size:]\n",
        "y_train, y_val = target[:train_size], target[train_size:]"
      ]
    },
    {
      "cell_type": "code",
      "execution_count": 8,
      "metadata": {
        "colab": {
          "base_uri": "https://localhost:8080/"
        },
        "id": "i17HjwJFq3UA",
        "outputId": "981d7bf6-1847-4f3d-e05b-57033a986c8c"
      },
      "outputs": [
        {
          "name": "stdout",
          "output_type": "stream",
          "text": [
            "[0 1 1 ... 1 0 0]\n"
          ]
        }
      ],
      "source": [
        "print(y_train)"
      ]
    },
    {
      "cell_type": "markdown",
      "metadata": {
        "id": "DPSjNdT3w263"
      },
      "source": [
        "Model Hyperparameters"
      ]
    },
    {
      "cell_type": "code",
      "execution_count": 9,
      "metadata": {
        "id": "_gGxDIywwovM"
      },
      "outputs": [],
      "source": [
        "learning_rate = 0.01\n",
        "num_epochs = 100\n",
        "display_step = 100\n",
        "batch_size = 32\n",
        "num_features = X_train.shape[1]\n",
        "num_classes = 2"
      ]
    },
    {
      "cell_type": "code",
      "execution_count": 10,
      "metadata": {
        "id": "7tQymF9m80Wd"
      },
      "outputs": [],
      "source": [
        "# Reshape the target labels\n",
        "y_train = np.eye(num_classes)[y_train.reshape(-1)]\n",
        "y_val = np.eye(num_classes)[y_val.reshape(-1)]"
      ]
    },
    {
      "cell_type": "code",
      "execution_count": 11,
      "metadata": {
        "colab": {
          "base_uri": "https://localhost:8080/"
        },
        "id": "hkstzulF82K7",
        "outputId": "c8acea98-4149-4073-f002-41385874a06b"
      },
      "outputs": [
        {
          "data": {
            "text/plain": [
              "array([[1., 0.],\n",
              "       [0., 1.],\n",
              "       [0., 1.],\n",
              "       ...,\n",
              "       [0., 1.],\n",
              "       [1., 0.],\n",
              "       [1., 0.]])"
            ]
          },
          "execution_count": 11,
          "metadata": {},
          "output_type": "execute_result"
        }
      ],
      "source": [
        "y_train"
      ]
    },
    {
      "cell_type": "code",
      "execution_count": 12,
      "metadata": {
        "id": "b49Snd2k17eP"
      },
      "outputs": [],
      "source": [
        "# Create the weight and bias variables\n",
        "W = tf.Variable(tf.zeros([num_features, num_classes], dtype=tf.float64))\n",
        "b = tf.Variable(tf.zeros([num_classes], dtype=tf.float64))"
      ]
    },
    {
      "cell_type": "code",
      "execution_count": 13,
      "metadata": {
        "id": "bxnfJxx-w9I9"
      },
      "outputs": [],
      "source": [
        "# Define the logistic regression model\n",
        "@tf.function\n",
        "def logistic_regression(inputs):\n",
        "    logits = tf.matmul(tf.cast(inputs, dtype=tf.float64), W) + b\n",
        "    return tf.nn.softmax(logits)"
      ]
    },
    {
      "cell_type": "code",
      "execution_count": 14,
      "metadata": {
        "id": "6fl8tu1ymdX8"
      },
      "outputs": [],
      "source": [
        "# Define the loss function (cross-entropy)\n",
        "@tf.function\n",
        "def loss_fn(inputs, labels):\n",
        "    logits = logistic_regression(inputs)\n",
        "    loss_value = tf.reduce_mean(tf.nn.softmax_cross_entropy_with_logits(labels=labels, logits=logits))\n",
        "    return loss_value"
      ]
    },
    {
      "cell_type": "code",
      "execution_count": 15,
      "metadata": {
        "id": "eYOiGU58mfw_"
      },
      "outputs": [],
      "source": [
        "# Define the optimizer\n",
        "optimizer = tf.keras.optimizers.SGD(learning_rate)"
      ]
    },
    {
      "cell_type": "code",
      "execution_count": 16,
      "metadata": {
        "id": "c_F7vZXSms7K"
      },
      "outputs": [],
      "source": [
        "# Define the training step\n",
        "@tf.function\n",
        "def train_step(inputs, labels):\n",
        "    with tf.GradientTape() as tape:\n",
        "        loss_value = loss_fn(inputs, labels)\n",
        "    gradients = tape.gradient(loss_value, [W, b])\n",
        "    optimizer.apply_gradients(zip(gradients, [W, b]))\n",
        "    return loss_value"
      ]
    },
    {
      "cell_type": "code",
      "execution_count": 17,
      "metadata": {
        "colab": {
          "base_uri": "https://localhost:8080/"
        },
        "id": "laDTxtq4mMSO",
        "outputId": "13bd1a00-e01b-4277-f86d-9624187d39be"
      },
      "outputs": [
        {
          "name": "stdout",
          "output_type": "stream",
          "text": [
            "Epoch 10/100, Loss: 0.75076\n",
            "Epoch 20/100, Loss: 0.55948\n",
            "Epoch 30/100, Loss: 0.65703\n",
            "Epoch 40/100, Loss: 0.67499\n",
            "Epoch 50/100, Loss: 0.59766\n",
            "Epoch 60/100, Loss: 0.43874\n",
            "Epoch 70/100, Loss: 0.53795\n",
            "Epoch 80/100, Loss: 0.60797\n",
            "Epoch 90/100, Loss: 0.53095\n",
            "Epoch 100/100, Loss: 0.50076\n",
            "Training completed!\n"
          ]
        }
      ],
      "source": [
        "# Start the training loop\n",
        "for epoch in range(num_epochs):\n",
        "    num_batches = len(X_train) // batch_size\n",
        "\n",
        "    for batch in range(num_batches):\n",
        "        batch_indices = np.random.choice(len(X_train), size=batch_size, replace=False)\n",
        "        batch_features = X_train[batch_indices]\n",
        "        batch_target = y_train[batch_indices]\n",
        "\n",
        "        loss_value = train_step(batch_features, batch_target)\n",
        "\n",
        "    if (epoch + 1) % 10 == 0:\n",
        "        print(f'Epoch {epoch + 1}/{num_epochs}, Loss: {loss_value:.5f}')\n",
        "\n",
        "print(\"Training completed!\")"
      ]
    },
    {
      "cell_type": "code",
      "execution_count": 18,
      "metadata": {
        "colab": {
          "base_uri": "https://localhost:8080/"
        },
        "id": "tiC9Y4asx4rH",
        "outputId": "3cc39e2a-5f17-4b4a-d30c-f988662ce239"
      },
      "outputs": [
        {
          "name": "stdout",
          "output_type": "stream",
          "text": [
            "Validation Accuracy: 0.73764\n"
          ]
        }
      ],
      "source": [
        "# Calculate the validation accuracy\n",
        "val_pred = logistic_regression(X_val).numpy()\n",
        "val_pred_labels = np.argmax(val_pred, axis=1)\n",
        "val_true_labels = np.argmax(y_val, axis=1)\n",
        "val_accuracy = np.mean(val_pred_labels == val_true_labels)\n",
        "print(f'Validation Accuracy: {val_accuracy:.5f}')"
      ]
    },
    {
      "cell_type": "code",
      "execution_count": 19,
      "metadata": {
        "colab": {
          "base_uri": "https://localhost:8080/"
        },
        "id": "ZUWOUtY2qUbt",
        "outputId": "c6b4a5a1-bb33-4678-de26-bdbeea61bf24"
      },
      "outputs": [
        {
          "data": {
            "text/plain": [
              "array([1, 0, 0, ..., 1, 0, 0], dtype=int64)"
            ]
          },
          "execution_count": 19,
          "metadata": {},
          "output_type": "execute_result"
        }
      ],
      "source": [
        "val_pred_labels"
      ]
    },
    {
      "cell_type": "code",
      "execution_count": 20,
      "metadata": {
        "colab": {
          "base_uri": "https://localhost:8080/"
        },
        "id": "GH_k4gzUqX4Q",
        "outputId": "e61f1993-19cd-4329-eaa5-d4a93c30a100"
      },
      "outputs": [
        {
          "data": {
            "text/plain": [
              "array([1, 0, 0, ..., 1, 1, 0], dtype=int64)"
            ]
          },
          "execution_count": 20,
          "metadata": {},
          "output_type": "execute_result"
        }
      ],
      "source": [
        "val_true_labels"
      ]
    }
  ],
  "metadata": {
    "colab": {
      "provenance": []
    },
    "kernelspec": {
      "display_name": "Python 3",
      "name": "python3"
    },
    "language_info": {
      "codemirror_mode": {
        "name": "ipython",
        "version": 3
      },
      "file_extension": ".py",
      "mimetype": "text/x-python",
      "name": "python",
      "nbconvert_exporter": "python",
      "pygments_lexer": "ipython3",
      "version": "3.10.4"
    }
  },
  "nbformat": 4,
  "nbformat_minor": 0
}
