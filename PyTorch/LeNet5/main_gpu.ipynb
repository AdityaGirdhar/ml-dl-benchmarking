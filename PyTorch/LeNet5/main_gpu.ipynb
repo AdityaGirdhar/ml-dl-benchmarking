{
 "cells": [
  {
   "cell_type": "code",
   "execution_count": 1,
   "metadata": {},
   "outputs": [],
   "source": [
    "import torchvision\n",
    "import torch\n",
    "import PIL as Image"
   ]
  },
  {
   "cell_type": "code",
   "execution_count": 2,
   "metadata": {},
   "outputs": [
    {
     "name": "stdout",
     "output_type": "stream",
     "text": [
      "Downloading http://yann.lecun.com/exdb/mnist/train-images-idx3-ubyte.gz\n",
      "Downloading http://yann.lecun.com/exdb/mnist/train-images-idx3-ubyte.gz to ./data\\MNIST\\raw\\train-images-idx3-ubyte.gz\n"
     ]
    },
    {
     "name": "stderr",
     "output_type": "stream",
     "text": [
      "100%|██████████| 9912422/9912422 [00:10<00:00, 968595.45it/s] \n"
     ]
    },
    {
     "name": "stdout",
     "output_type": "stream",
     "text": [
      "Extracting ./data\\MNIST\\raw\\train-images-idx3-ubyte.gz to ./data\\MNIST\\raw\n",
      "\n",
      "Downloading http://yann.lecun.com/exdb/mnist/train-labels-idx1-ubyte.gz\n",
      "Downloading http://yann.lecun.com/exdb/mnist/train-labels-idx1-ubyte.gz to ./data\\MNIST\\raw\\train-labels-idx1-ubyte.gz\n"
     ]
    },
    {
     "name": "stderr",
     "output_type": "stream",
     "text": [
      "100%|██████████| 28881/28881 [00:00<?, ?it/s]\n"
     ]
    },
    {
     "name": "stdout",
     "output_type": "stream",
     "text": [
      "Extracting ./data\\MNIST\\raw\\train-labels-idx1-ubyte.gz to ./data\\MNIST\\raw\n",
      "\n",
      "Downloading http://yann.lecun.com/exdb/mnist/t10k-images-idx3-ubyte.gz\n",
      "Downloading http://yann.lecun.com/exdb/mnist/t10k-images-idx3-ubyte.gz to ./data\\MNIST\\raw\\t10k-images-idx3-ubyte.gz\n"
     ]
    },
    {
     "name": "stderr",
     "output_type": "stream",
     "text": [
      "100%|██████████| 1648877/1648877 [00:00<00:00, 1978264.32it/s]\n"
     ]
    },
    {
     "name": "stdout",
     "output_type": "stream",
     "text": [
      "Extracting ./data\\MNIST\\raw\\t10k-images-idx3-ubyte.gz to ./data\\MNIST\\raw\n",
      "\n",
      "Downloading http://yann.lecun.com/exdb/mnist/t10k-labels-idx1-ubyte.gz\n",
      "Downloading http://yann.lecun.com/exdb/mnist/t10k-labels-idx1-ubyte.gz to ./data\\MNIST\\raw\\t10k-labels-idx1-ubyte.gz\n"
     ]
    },
    {
     "name": "stderr",
     "output_type": "stream",
     "text": [
      "100%|██████████| 4542/4542 [00:00<?, ?it/s]"
     ]
    },
    {
     "name": "stdout",
     "output_type": "stream",
     "text": [
      "Extracting ./data\\MNIST\\raw\\t10k-labels-idx1-ubyte.gz to ./data\\MNIST\\raw\n",
      "\n"
     ]
    },
    {
     "name": "stderr",
     "output_type": "stream",
     "text": [
      "\n"
     ]
    }
   ],
   "source": [
    "# defining constants\n",
    "NUM_OF_CLASSES = 10\n",
    "BATCH_SIZE = 32\n",
    "NUM_OF_EPOCHS = 10\n",
    "# initial transformation\n",
    "resize_transformation = torchvision.transforms.Compose([\n",
    "    torchvision.transforms.Resize((32, 32)),\n",
    "    torchvision.transforms.ToTensor(),\n",
    "    torchvision.transforms.Normalize((0.5,), (0.5,))\n",
    "])\n",
    "# downloading and loading the dataset\n",
    "train_dataset = torchvision.datasets.MNIST(root='./data', train=True, download=True, transform=resize_transformation)\n",
    "test_dataset = torchvision.datasets.MNIST(root='./data', train=False, download=False, transform=resize_transformation)"
   ]
  },
  {
   "cell_type": "code",
   "execution_count": 3,
   "metadata": {},
   "outputs": [],
   "source": [
    "# loading the dataset into the data loader\n",
    "train_data = torch.utils.data.DataLoader(train_dataset, batch_size = BATCH_SIZE, shuffle=True)\n",
    "test_data = torch.utils.data.DataLoader(test_dataset, batch_size = BATCH_SIZE, shuffle=False)"
   ]
  },
  {
   "cell_type": "code",
   "execution_count": 4,
   "metadata": {},
   "outputs": [],
   "source": [
    "# defining the LeNet CNN architecture\n",
    "class LeNet5(torch.nn.Module):\n",
    "    def __init__(self, num_of_classes):\n",
    "        super().__init__()\n",
    "        # CNN part - feature extraction\n",
    "        self.feature_extraction = torch.nn.Sequential(\n",
    "            # convolutional layer 1\n",
    "            torch.nn.Conv2d(in_channels = 1, kernel_size = (5, 5), padding=0, stride=1, out_channels = 6, bias = True),\n",
    "            torch.nn.Tanh(), \n",
    "            torch.nn.MaxPool2d(kernel_size = (2, 2)),\n",
    "            # convolutional layer 2\n",
    "            torch.nn.Conv2d(in_channels = 6, kernel_size = (5, 5), padding=0, stride=1, out_channels = 16, bias = True), \n",
    "            torch.nn.Tanh(),\n",
    "            torch.nn.MaxPool2d(kernel_size = (2,2))\n",
    "        )\n",
    "        # classification part - Multilayer perceptron region\n",
    "        self.classifier = torch.nn.Sequential(\n",
    "            # classifier - Multi layer perceptron\n",
    "            # layer 1\n",
    "            torch.nn.Linear(in_features = 400, out_features = 120),\n",
    "            torch.nn.ReLU(), \n",
    "            # layer 2\n",
    "            torch.nn.Linear(in_features = 120, out_features = 84),\n",
    "            torch.nn.ReLU(), \n",
    "            # layer 3\n",
    "            torch.nn.Linear(in_features = 84, out_features = 10), \n",
    "            torch.nn.Softmax()\n",
    "        )\n",
    "    # forward propogation of the network\n",
    "    def forward(self, X):\n",
    "        X = self.feature_extraction(X)\n",
    "        X = torch.flatten(X, 1)   \n",
    "        X = self.classifier(X)\n",
    "        return X\n",
    "# defining the model \n",
    "model = LeNet5(NUM_OF_CLASSES)"
   ]
  },
  {
   "cell_type": "code",
   "execution_count": 5,
   "metadata": {},
   "outputs": [],
   "source": [
    "# setting the optimizer for the model \n",
    "optimizer = torch.optim.SGD(model.parameters(), lr = 0.01)"
   ]
  },
  {
   "cell_type": "code",
   "execution_count": 6,
   "metadata": {},
   "outputs": [
    {
     "name": "stderr",
     "output_type": "stream",
     "text": [
      "c:\\Users\\Public\\ipenv\\envs\\learndl\\lib\\site-packages\\torch\\nn\\modules\\container.py:217: UserWarning: Implicit dimension choice for softmax has been deprecated. Change the call to include dim=X as an argument.\n",
      "  input = module(input)\n"
     ]
    }
   ],
   "source": [
    "# Training loop for the LeNet CNN architecture          \n",
    "for epoch in range(NUM_OF_EPOCHS):\n",
    "    for batch_index, (data, label) in enumerate(train_data):\n",
    "        logits = model(data)\n",
    "        cost = torch.nn.functional.cross_entropy(logits, label)\n",
    "        optimizer.zero_grad()\n",
    "        cost.backward()\n",
    "        optimizer.step()\n",
    "        # logging\n",
    "    #     if (batch_index%50==0):\n",
    "    #         print(f\"Epoch : {epoch+1} | Batches : {batch_index}/{len(train_data)} | Loss Value : {cost.item()}\")\n",
    "    # print(f\"Epoch : {epoch} | Loss Value : {cost.item()}\")"
   ]
  },
  {
   "cell_type": "code",
   "execution_count": 7,
   "metadata": {},
   "outputs": [],
   "source": [
    "# computing the training and validation loss and accuracy\n",
    "with torch.no_grad():\n",
    "    correct_pred = 0\n",
    "    num_examples = 0\n",
    "    for i, (features, labels) in enumerate(train_data):\n",
    "        logits = model(features)\n",
    "        predictions = torch.argmax(logits, dim=1)\n",
    "        correct_pred += torch.sum(predictions == labels).item()\n",
    "        num_examples += labels.size(0)\n",
    "    train_acc = (correct_pred / num_examples) * 100\n",
    "    correct_pred = 0\n",
    "    num_examples = 0\n",
    "    for i, (features, labels) in enumerate(test_data):\n",
    "        logits = model(features)\n",
    "        predictions = torch.argmax(logits, dim=1)\n",
    "        correct_pred += torch.sum(predictions == labels).item()\n",
    "        num_examples += labels.size(0)\n",
    "    valid_acc = (correct_pred / num_examples) * 100"
   ]
  },
  {
   "cell_type": "code",
   "execution_count": 8,
   "metadata": {},
   "outputs": [
    {
     "name": "stdout",
     "output_type": "stream",
     "text": [
      "Training accuracy of the LeNet5 model: 92.78%\n",
      "Test accuracy of the LeNet5 model: 92.93%\n"
     ]
    }
   ],
   "source": [
    "print(f\"Training accuracy of the LeNet5 model: {train_acc:.2f}%\")\n",
    "print(f\"Test accuracy of the LeNet5 model: {valid_acc:.2f}%\")"
   ]
  }
 ],
 "metadata": {
  "kernelspec": {
   "display_name": "Python 3",
   "language": "python",
   "name": "python3"
  },
  "language_info": {
   "codemirror_mode": {
    "name": "ipython",
    "version": 3
   },
   "file_extension": ".py",
   "mimetype": "text/x-python",
   "name": "python",
   "nbconvert_exporter": "python",
   "pygments_lexer": "ipython3",
   "version": "3.10.9"
  },
  "orig_nbformat": 4
 },
 "nbformat": 4,
 "nbformat_minor": 2
}
