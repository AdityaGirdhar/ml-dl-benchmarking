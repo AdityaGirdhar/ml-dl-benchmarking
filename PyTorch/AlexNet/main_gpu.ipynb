{
 "cells": [
  {
   "cell_type": "code",
   "execution_count": null,
   "metadata": {},
   "outputs": [],
   "source": [
    "import torchvision\n",
    "import torch\n",
    "import PIL as Image\n",
    "import matplotlib.pyplot as plt"
   ]
  },
  {
   "cell_type": "code",
   "execution_count": null,
   "metadata": {},
   "outputs": [],
   "source": [
    "# defining constants\n",
    "NUM_OF_CLASSES = 10\n",
    "BATCH_SIZE = 64\n",
    "NUM_OF_EPOCHS = 5\n",
    "LEARNING_RATE = 0.01\n",
    "# initial transformation on all the images\n",
    "resize_transformation = torchvision.transforms.Compose([\n",
    "    torchvision.transforms.Resize((227, 227)), \n",
    "    torchvision.transforms.ToTensor(), \n",
    "    torchvision.transforms.Normalize((0.5,), (0.5,))\n",
    "])\n",
    "# downloading and loading the dataset for the model\n",
    "train_dataset = torchvision.datasets.MNIST(root='data', train=True, transform=resize_transformation, download=True)\n",
    "test_dataset = torchvision.datasets.MNIST(root='data', train=False, transform=resize_transformation, download=False)"
   ]
  },
  {
   "cell_type": "code",
   "execution_count": null,
   "metadata": {},
   "outputs": [],
   "source": [
    "# setting up the dataloaders for the model\n",
    "train_data = torch.utils.data.DataLoader(train_dataset, batch_size=BATCH_SIZE, shuffle=True)\n",
    "test_data = torch.utils.data.DataLoader(test_dataset, batch_size=BATCH_SIZE, shuffle=False)"
   ]
  },
  {
   "cell_type": "code",
   "execution_count": null,
   "metadata": {},
   "outputs": [],
   "source": [
    "class AlexNet(torch.nn.Module):\n",
    "    def __init__(self, num_of_classes):\n",
    "        super().__init__()\n",
    "        # feature classifier component\n",
    "        self.feature_extraction = torch.nn.Sequential(\n",
    "            # convolutional layer 1\n",
    "            torch.nn.Conv2d(in_channels = 1, out_channels = 96, stride = (4,4), padding = 0, kernel_size = (11,11)),\n",
    "            torch.nn.Tanh(),\n",
    "            torch.nn.MaxPool2d(kernel_size = (3,3), stride = (2, 2), padding = 0), \n",
    "            # convolutional layer 2\n",
    "            torch.nn.Conv2d(in_channels = 96, out_channels = 256, kernel_size = (5, 5), padding = 2, stride = (1, 1)),\n",
    "            torch.nn.Tanh(),\n",
    "            torch.nn.MaxPool2d(kernel_size = (3, 3), stride = (2, 2), padding = 0), \n",
    "            # convolutional layer 3\n",
    "            torch.nn.Conv2d(in_channels = 256, out_channels = 384, stride = (1, 1), padding = 1, kernel_size = (3, 3)), \n",
    "            torch.nn.Tanh(), \n",
    "            # convolutional layer 4\n",
    "            torch.nn.Conv2d(in_channels = 384, out_channels = 384, kernel_size = (3,3), padding = 1, stride = (1, 1)), \n",
    "            torch.nn.Tanh(), \n",
    "            # convolutional layer 5\n",
    "            torch.nn.Conv2d(in_channels = 384, out_channels = 256, kernel_size = (3, 3), padding = 1, stride = (1, 1)), \n",
    "            torch.nn.MaxPool2d(kernel_size = (3, 3), padding = 0, stride = (2, 2))\n",
    "        )\n",
    "        # classifier component\n",
    "        self.classifier = torch.nn.Sequential(\n",
    "            # first layer of MLP\n",
    "            torch.nn.Linear(in_features = 9216, out_features = 4096, bias = True),\n",
    "            torch.nn.ReLU(), \n",
    "            # second layer of MLP\n",
    "            torch.nn.Linear(in_features = 4096, out_features = 4096, bias = True),\n",
    "            torch.nn.ReLU(), \n",
    "            # final layer of MLP\n",
    "            torch.nn.Linear(in_features = 4096, out_features = num_of_classes, bias = True),\n",
    "            torch.nn.Softmax()\n",
    "        )\n",
    "    def forward(self, X):\n",
    "        X = self.feature_extraction(X)\n",
    "        X = torch.flatten(X, 1)\n",
    "        X = self.classifier(X)\n",
    "        return X\n",
    "\n",
    "# defining the model\n",
    "model = AlexNet(num_of_classes=NUM_OF_CLASSES)"
   ]
  },
  {
   "cell_type": "code",
   "execution_count": null,
   "metadata": {},
   "outputs": [],
   "source": [
    "# setting the optimizer for the problem\n",
    "optimizer = torch.optim.SGD(model.parameters(), lr = LEARNING_RATE)"
   ]
  },
  {
   "cell_type": "code",
   "execution_count": null,
   "metadata": {},
   "outputs": [],
   "source": [
    "# training loop\n",
    "for epoch in range(NUM_OF_EPOCHS):\n",
    "    for batch_index, (data, labels) in enumerate(train_data):\n",
    "        # forward propogation of the network\n",
    "        logits = model(data)\n",
    "        # compute the cross entropy loss value for the forward prop between the prediction of the forward pass and the actual label\n",
    "        cost = torch.nn.functional.cross_entropy(logits, labels)\n",
    "        # zero down any older gradients from the optimizer\n",
    "        optimizer.zero_grad()\n",
    "        # performing back propogation for the cost value\n",
    "        cost.backward()\n",
    "        # update the values of the weights with respect to the gradient values for the cross entropy loss function\n",
    "        optimizer.step()\n",
    "        # logging work - print the results after every 50 batches\n",
    "        # if (batch_index%50==0):\n",
    "            # print(f\"Epoch : {epoch + 1} | Batch Index : {batch_index}/{len(train_data)} | Loss value : {cost.item()}\")\n",
    "    # logging\n",
    "    # print(f\"Epoch : {epoch + 1} | Loss value : {cost.item()}\")"
   ]
  },
  {
   "cell_type": "code",
   "execution_count": null,
   "metadata": {},
   "outputs": [],
   "source": [
    "# finding the value of the loss function and the accuracy for training and testing datasets\n",
    "with torch.no_grad():\n",
    "    correct_pred = 0\n",
    "    num_examples = 0\n",
    "    for i, (data, labels) in enumerate(train_data):\n",
    "        train_logits = model(data)\n",
    "        train_predictions = torch.argmax(train_logits)\n",
    "        correct_pred += torch.sum(train_predictions == labels).item()\n",
    "        num_examples += labels.size(0)\n",
    "        train_accuracy = (correct_pred / num_examples) * 100\n",
    "    correct_pred = 0\n",
    "    num_examples = 0\n",
    "    for batch_index, (data, labels) in enumerate(test_data):\n",
    "        test_logits = model(data)\n",
    "        test_predictions = torch.argmax(test_logits)\n",
    "        correct_pred += torch.sum(test_predictions == labels).item()\n",
    "        num_examples += labels.size(0)\n",
    "    test_accuracy = (correct_pred / num_examples) * 100"
   ]
  },
  {
   "cell_type": "code",
   "execution_count": null,
   "metadata": {},
   "outputs": [],
   "source": [
    "print(f\"Training accuracy of AlexNet model : {train_accuracy}%\")\n",
    "print(f\"Testing accuracy of the AlexNet model : {test_accuracy}%\")"
   ]
  }
 ],
 "metadata": {
  "kernelspec": {
   "display_name": "learndl",
   "language": "python",
   "name": "python3"
  },
  "language_info": {
   "codemirror_mode": {
    "name": "ipython",
    "version": 3
   },
   "file_extension": ".py",
   "mimetype": "text/x-python",
   "name": "python",
   "nbconvert_exporter": "python",
   "pygments_lexer": "ipython3",
   "version": "3.10.9"
  },
  "orig_nbformat": 4
 },
 "nbformat": 4,
 "nbformat_minor": 2
}
